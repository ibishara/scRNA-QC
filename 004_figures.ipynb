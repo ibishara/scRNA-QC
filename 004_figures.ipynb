{
 "cells": [
  {
   "cell_type": "code",
   "execution_count": 55,
   "source": [
    "# Figure 2\n",
    "\n",
    "setwd('/Users/ibishara/Desktop/FELINE_C1/')\n",
    "\n",
    "# packages\n",
    "library(data.table)\n",
    "library(tidyverse)\n",
    "library(qs)\n",
    "\n",
    "# data\n",
    "meta_sub_LQ <- fread('metadata_subsample_LQ_no_id.txt', sep='\\t', data.table=F) # low quality subsample metadata\n",
    "meta_sub_HQ <- fread('metadata_subsample_HQ_no_id.txt', sep='\\t', data.table=F) # high quality subsample metadata\n",
    "\n",
    "meta_sub <- bind_rows(meta_sub_HQ, meta_sub_LQ) # combine HQ & LQ metadata\n"
   ],
   "outputs": [
    {
     "output_type": "stream",
     "name": "stderr",
     "text": [
      "\n",
      "Attaching package: 'data.table'\n",
      "\n",
      "\n",
      "The following objects are masked from 'package:reshape2':\n",
      "\n",
      "    dcast, melt\n",
      "\n",
      "\n",
      "The following objects are masked from 'package:dplyr':\n",
      "\n",
      "    between, first, last\n",
      "\n",
      "\n",
      "Registered S3 method overwritten by 'cli':\n",
      "  method     from         \n",
      "  print.boxx spatstat.geom\n",
      "\n",
      "-- \u001b[1mAttaching packages\u001b[22m --------------------------------------- tidyverse 1.3.1 --\n",
      "\n",
      "\u001b[32mv\u001b[39m \u001b[34mtibble \u001b[39m 3.1.6     \u001b[32mv\u001b[39m \u001b[34mpurrr  \u001b[39m 0.3.4\n",
      "\u001b[32mv\u001b[39m \u001b[34mtidyr  \u001b[39m 1.1.3     \u001b[32mv\u001b[39m \u001b[34mstringr\u001b[39m 1.4.0\n",
      "\u001b[32mv\u001b[39m \u001b[34mreadr  \u001b[39m 2.0.2     \u001b[32mv\u001b[39m \u001b[34mforcats\u001b[39m 0.5.1\n",
      "\n",
      "-- \u001b[1mConflicts\u001b[22m ------------------------------------------ tidyverse_conflicts() --\n",
      "\u001b[31mx\u001b[39m \u001b[34mdata.table\u001b[39m::\u001b[32mbetween()\u001b[39m masks \u001b[34mdplyr\u001b[39m::between()\n",
      "\u001b[31mx\u001b[39m \u001b[34mdplyr\u001b[39m::\u001b[32mfilter()\u001b[39m       masks \u001b[34mstats\u001b[39m::filter()\n",
      "\u001b[31mx\u001b[39m \u001b[34mdata.table\u001b[39m::\u001b[32mfirst()\u001b[39m   masks \u001b[34mdplyr\u001b[39m::first()\n",
      "\u001b[31mx\u001b[39m \u001b[34mdplyr\u001b[39m::\u001b[32mlag()\u001b[39m          masks \u001b[34mstats\u001b[39m::lag()\n",
      "\u001b[31mx\u001b[39m \u001b[34mdata.table\u001b[39m::\u001b[32mlast()\u001b[39m    masks \u001b[34mdplyr\u001b[39m::last()\n",
      "\u001b[31mx\u001b[39m \u001b[34mpurrr\u001b[39m::\u001b[32mtranspose()\u001b[39m    masks \u001b[34mdata.table\u001b[39m::transpose()\n",
      "\n"
     ]
    },
    {
     "output_type": "display_data",
     "data": {
      "text/plain": [
       "[1] 35000     6"
      ],
      "text/markdown": [
       "1. 35000\n",
       "2. 6\n",
       "\n",
       "\n"
      ],
      "text/latex": [
       "\\begin{enumerate*}\n",
       "\\item 35000\n",
       "\\item 6\n",
       "\\end{enumerate*}\n"
      ],
      "text/html": [
       "<style>\n",
       ".list-inline {list-style: none; margin:0; padding: 0}\n",
       ".list-inline>li {display: inline-block}\n",
       ".list-inline>li:not(:last-child)::after {content: \"\\00b7\"; padding: 0 .5ex}\n",
       "</style>\n",
       "<ol class=list-inline><li>35000</li><li>6</li></ol>\n"
      ]
     },
     "metadata": {}
    }
   ],
   "metadata": {}
  },
  {
   "cell_type": "code",
   "execution_count": 2,
   "source": [
    "# Figure 2\n",
    "## indexing \n",
    "# Lineage\n",
    "epi.ind <- which(meta_sub$Lineage == \"Epithelial_cells\")\n",
    "mes.ind <- which(meta_sub$Lineage == \"Stromal_cells\")\n",
    "hem.ind <- which(meta_sub$Lineage == \"Immune_cells\")\n",
    "\n",
    "# LQ cell type labels\n",
    "tcell.ind.LQ <- which( meta_sub$hpca == \"T_cells\" )\n",
    "bcell.ind.LQ <- which( meta_sub$hpca == \"B_cell\" )\n",
    "macro.ind.LQ <- which( meta_sub$hpca == \"Macrophage\" | meta_sub$hpca == \"Monocyte\")\n",
    "fibro.ind.LQ <- which( meta_sub$hpca == \"Fibroblasts\")\n",
    "\n",
    "# LQ cell type labels\n",
    "tcell.ind.HQ <- which( meta_sub$Celltype == \"T cells\" )\n",
    "bcell.ind.HQ <- which( meta_sub$Celltype == \"B cells\" )\n",
    "macro.ind.HQ <- which( meta_sub$Celltype == \"Macrophages\")\n",
    "fibro.ind.HQ <- which( meta_sub$Celltype == \"Fibroblasts\")\n",
    "\n",
    "# combined cell type labels\n",
    "tcell.ind <- c(tcell.ind.LQ, tcell.ind.HQ)\n",
    "bcell.ind <- c(bcell.ind.LQ, bcell.ind.HQ)\n",
    "macro.ind <- c(macro.ind.LQ, macro.ind.HQ)\n",
    "fibro.ind <- c(fibro.ind.LQ, fibro.ind.HQ)\n",
    "\n",
    "## setting cut-offs\n",
    "## JF's cut-off for FELINE_C1: > 1500 UMI. 500 - 7000 genes, mtDNA% < 20%\n",
    "nCount_RNA_cutoff <- 1500\n",
    "new.nCount_RNA_cutoff <- 450\n",
    "\n",
    "all.retained <- length(which(meta_sub$nCount_RNA > nCount_RNA_cutoff)) / length(meta_sub$nCount_RNA )\n",
    "epi.retained <- length(which(meta_sub$nCount_RNA[epi.ind] > nCount_RNA_cutoff)) / length(meta_sub$nCount_RNA[epi.ind] )\n",
    "mes.retained <- length(which(meta_sub$nCount_RNA[mes.ind] > nCount_RNA_cutoff)) / length(meta_sub$nCount_RNA[mes.ind] )\n",
    "hem.retained <- length(which(meta_sub$nCount_RNA[hem.ind] > nCount_RNA_cutoff)) / length(meta_sub$nCount_RNA[hem.ind] )\n",
    "\n",
    "tcell.retained <- length(which(meta_sub$nCount_RNA[tcell.ind] > nCount_RNA_cutoff)) / length(meta_sub$nCount_RNA[tcell.ind] )\n",
    "macro.retained <- length(which(meta_sub$nCount_RNA[macro.ind] > nCount_RNA_cutoff)) / length(meta_sub$nCount_RNA[macro.ind] )\n",
    "fibro.retained <- length(which(meta_sub$nCount_RNA[fibro.ind] > nCount_RNA_cutoff)) / length(meta_sub$nCount_RNA[fibro.ind] )\n",
    "bcell.retained <- length(which(meta_sub$nCount_RNA[bcell.ind] > nCount_RNA_cutoff)) / length(meta_sub$nCount_RNA[bcell.ind] )\n",
    "\n",
    "\n",
    "## Plot number of reads and genes by Cell type. Epithelial cells are used as a reference \n",
    "\n",
    "title.size <- 1.4\n",
    "lab.size <- 1.0\n",
    "sub.size <- 1.4\n",
    "\n",
    "pdf('Figures/Fig.2.pdf', width = 14, height = 6)\n",
    "par(mfrow=c(2,4), mar=c(6,5,5,1))\n",
    "\n",
    "\n",
    "v <- list(epi.ind, mes.ind)\n",
    "n <- list(epi.retained, mes.retained)\n",
    "lapply( , FUN(v, n) {     \n",
    "plot(main = \"Epithelial cells: total reads (log10)\", density(log10(meta_sub$nCount_RNA[epi.ind])), cex.main = title.size, cex.lab = lab.size, cex.sub= sub.size); abline(v=log10(nCount_RNA_cutoff), lty=2, col=\"darkred\")\n",
    "mtext(line= -17.3, adj=0.5, cex=1, paste('Percent cells retained:', round(100*epi.retained),'%' ))  # subtitle\n",
    "mtext(line= 0.7, adj=0.5, cex=0.8, paste('Average reads per cell:', round(mean(meta_sub$nCount_RNA[epi.ind])) ),)  # subtitle\n",
    "},var2=n)\n",
    "\n",
    "\n",
    "plot(main = \"All cells: total reads (log10)\", density(log10(meta_sub$nCount_RNA)), cex.main = title.size, cex.lab = lab.size, cex.sub= sub.size); abline(v=log10(nCount_RNA_cutoff), lty=2, col=\"darkred\")\n",
    "mtext(line= -17.3, adj=0.5, cex=1, paste('Percent cells retained:', round(100*all.retained),'%' ))  # subtitle\n",
    "mtext(line= 0.7, adj=0.5, cex=0.8, paste('Average reads per cell:', round(mean(meta_sub$nCount_RNA)) ),)  # subtitle\n",
    "\n",
    "## Lineage plots\n",
    "plot(main = \"Epithelial cells: total reads (log10)\", density(log10(meta_sub$nCount_RNA[epi.ind])), cex.main = title.size, cex.lab = lab.size, cex.sub= sub.size); abline(v=log10(nCount_RNA_cutoff), lty=2, col=\"darkred\")\n",
    "mtext(line= -17.3, adj=0.5, cex=1, paste('Percent cells retained:', round(100*epi.retained),'%' ))  # subtitle\n",
    "mtext(line= 0.7, adj=0.5, cex=0.8, paste('Average reads per cell:', round(mean(meta_sub$nCount_RNA[epi.ind])) ),)  # subtitle\n",
    "\n",
    "plot(main = \"Stromal cells: total reads (log10)\", density(log10(meta_sub$nCount_RNA[mes.ind])), cex.main = title.size, cex.lab = lab.size, cex.sub= sub.size); abline(v=log10(nCount_RNA_cutoff), lty=2, col=\"darkred\")\n",
    "mtext(line= -17.3, adj=0.5, cex=1, paste('Percent cells retained:', round(100*mes.retained),'%' ))  # subtitle\n",
    "mtext(line= 0.7, adj=0.5, cex=0.8, paste('Average reads per cell:', round(mean(meta_sub$nCount_RNA[mes.ind])) ),)  # subtitle\n",
    "\n",
    "plot(main = \"Immune cells: total reads (log10)\", density(log10(meta_sub$nCount_RNA[hem.ind])), cex.main = title.size, cex.lab = lab.size, cex.sub= sub.size); abline(v=log10(nCount_RNA_cutoff), lty=2, col=\"darkred\")\n",
    "mtext(line= -17.3, adj=0.5, cex=1, paste('Percent cells retained:', round(100*hem.retained),'%' ))  # subtitle\n",
    "mtext(line= 0.7, adj=0.5, cex=0.8, paste('Average reads per cell:', round(mean(meta_sub$nCount_RNA[hem.ind])) ),)  # subtitle\n",
    "\n",
    "## Cell type plots\n",
    "plot(main = \"Fibroblasts: total reads (log10)\", density(log10(meta_sub$nCount_RNA[fibro.ind])), cex.main = title.size, cex.lab = lab.size, cex.sub= sub.size); abline(v=log10(nCount_RNA_cutoff), lty=2, col=\"darkred\")\n",
    "mtext(line= -17.3, adj=0.5, cex=1, paste('Percent cells retained:', round(100*fibro.retained ),'%' ))  # subtitle\n",
    "mtext(line= 0.7, adj=0.5, cex=0.8, paste('Average reads per cell:', round(mean(meta_sub$nCount_RNA[fibro.ind])) ),)  # subtitle\n",
    "\n",
    "plot(main = \"B-cells: total reads (log10)\", density(log10(meta_sub$nCount_RNA[bcell.ind])), cex.main = title.size, cex.lab = lab.size, cex.sub= sub.size); abline(v=log10(nCount_RNA_cutoff), lty=2, col=\"darkred\")\n",
    "mtext(line= -17.3, adj=0.5, cex=1, paste('Percent cells retained:', round(100*bcell.retained ),'%' ))  # subtitle\n",
    "mtext(line= 0.7, adj=0.5, cex=0.8, paste('Average reads per cell:', round(mean(meta_sub$nCount_RNA[bcell.ind])) ),)  # subtitle\n",
    "\n",
    "plot(main = \"T-cells: total reads (log10)\", density(log10(meta_sub$nCount_RNA[tcell.ind])), cex.main = title.size, cex.lab = lab.size, cex.sub= sub.size); abline(v=log10(nCount_RNA_cutoff), lty=2, col=\"darkred\")\n",
    "mtext(line= -17.3, adj=0.5, cex=1, paste('Percent cells retained:', round(100*tcell.retained ),'%' ))  # subtitle\n",
    "mtext(line= 0.7, adj=0.5, cex=0.8, paste('Average reads per cell:', round(mean(meta_sub$nCount_RNA[tcell.ind])) ),)  # subtitle\n",
    "\n",
    "plot(main = \"Macrophages/Monocytes: total reads (log10)\", density(log10(meta_sub$nCount_RNA[macro.ind])), cex.main = title.size, cex.lab = lab.size, cex.sub= sub.size); abline(v=log10(nCount_RNA_cutoff), lty=2, col=\"darkred\")\n",
    "mtext(line= -17.3, adj=0.5, cex=1, paste('Percent cells retained:', round(100*macro.retained ),'%' ),)  # subtitle\n",
    "mtext(line= 0.7, adj=0.5, cex=0.8, paste('Average reads per cell:', round(mean(meta_sub$nCount_RNA[macro.ind])) ),)  # subtitle\n",
    "\n",
    "\n",
    "\n",
    "\n",
    "dev.off()\n",
    "options(repr.plot.width=14, repr.plot.height=6)\n",
    "\n"
   ],
   "outputs": [
    {
     "output_type": "display_data",
     "data": {
      "text/plain": [
       "pdf \n",
       "  2 "
      ],
      "text/markdown": [
       "**pdf:** 2"
      ],
      "text/latex": [
       "\\textbf{pdf:} 2"
      ],
      "text/html": [
       "<strong>pdf:</strong> 2"
      ]
     },
     "metadata": {}
    }
   ],
   "metadata": {}
  },
  {
   "cell_type": "code",
   "execution_count": 9,
   "source": [
    "options(warn=-1) # warnings off\n",
    "\n",
    "# Figure 3 | supp. 1   | supp. 2 \n",
    "\n",
    "setwd('/Users/ibishara/Desktop/FELINE_C1/')\n",
    "\n",
    "# packages\n",
    "library(data.table)\n",
    "library(ggridges)\n",
    "library(ggpubr)\n",
    "library(stringr)\n",
    "\n",
    "# data\n",
    "all.perf <- list.files(path = \"/Users/ibishara/Desktop/FELINE_C1/\", pattern = \"SCN_Performance*\", recursive = FALSE)  # create a list of raw count tables from all batches\n",
    "perf.list.SCN <- lapply( all.perf, FUN = function(x) {fread(x, sep='auto')})\n",
    "perf.SCN <- as.data.frame(do.call(rbind, perf.list.SCN))  #join list of tables \n",
    "\n",
    "all.perf <- list.files(path = \"/Users/ibishara/Desktop/FELINE_C1/\", pattern = \"SR_Performance*\", recursive = FALSE)  # create a list of raw count tables from all batches\n",
    "perf.list.SR <- lapply( all.perf, FUN = function(x) {fread(x, sep='auto')})\n",
    "perf.SR <- as.data.frame(do.call(rbind, perf.list.SR))  #join list of tables \n",
    "\n",
    "\n",
    "# distribution clean-up\n",
    "# table_type = reads, genes\n",
    "# method = poisson, non-binary, binary\n",
    "\n",
    "dist.clean <- function(table_type, method){\n",
    "    dist <- fread(paste('SCN_', table_type, '_distribution_', method, '.txt' , sep=''), sep = '\\t') # read distribution table | same for SCN and SR\n",
    "\n",
    "    # data clean-up\n",
    "    dist$V1 <- NULL\n",
    "    dist <- t(dist)\n",
    "    colnames(dist) <- dist[1,]\n",
    "    dist <- dist[-1,]\n",
    "    dist <- melt(dist)\n",
    "    dist <- dist[,-1]\n",
    "    dist$value <- as.numeric(dist$value)\n",
    "    return(dist)\n",
    "}\n",
    "\n",
    "dist.reads_poisson <- dist.clean('reads', 'poisson')\n",
    "dist.genes_poisson <- dist.clean('genes', 'poisson')\n",
    "dist.reads_nonbin <- dist.clean('reads', 'non-binary')\n",
    "dist.genes_nonbin <- dist.clean('genes', 'non-binary')\n",
    "dist.reads_binary <- dist.clean('reads', 'binary')\n",
    "dist.genes_binary <- dist.clean('genes', 'binary')\n",
    "\n",
    "# Calculates mean and median for plot annotations \n",
    "summ <- function(x) c(Mean = mean(x), median = median(x))\n",
    "summ.clean <- function(mat) {\n",
    "    stats <- aggregate(value ~  Var2, mat, summ, simplify = TRUE)\n",
    "    stats <- cbind(stats[1], round(stats[[2]]))\n",
    "    return(stats)\n",
    "}\n",
    "\n",
    "stat.reads_poisson <- summ.clean(dist.reads_poisson)\n",
    "stat.genes_poisson <- summ.clean(dist.genes_poisson)\n",
    "stat.reads_binary <- summ.clean(dist.reads_binary)\n",
    "stat.genes_binary <- summ.clean(dist.genes_binary)\n",
    "stat.reads_nonbin <- summ.clean(dist.reads_nonbin)\n",
    "stat.genes_nonbin <- summ.clean(dist.genes_nonbin)\n"
   ],
   "outputs": [
    {
     "output_type": "stream",
     "name": "stderr",
     "text": [
      "\n",
      "Attaching package: 'data.table'\n",
      "\n",
      "\n",
      "The following objects are masked from 'package:reshape2':\n",
      "\n",
      "    dcast, melt\n",
      "\n",
      "\n",
      "The following objects are masked from 'package:dplyr':\n",
      "\n",
      "    between, first, last\n",
      "\n",
      "\n",
      "\n",
      "Attaching package: 'ggpubr'\n",
      "\n",
      "\n",
      "The following object is masked from 'package:cowplot':\n",
      "\n",
      "    get_legend\n",
      "\n",
      "\n"
     ]
    }
   ],
   "metadata": {}
  },
  {
   "cell_type": "code",
   "execution_count": 103,
   "source": [
    "# Figure 3c,d | supp. 1c,d  | supp. 2c,d \n",
    "\n",
    "# train = 'SCN', 'SR'\n",
    "# method = 'poisson', 'binary', 'non-binary'\n",
    "# function plots the AUC at different thresholds of a 'train' algorithm and transformed by 'method'\n",
    "AUCplot <- function(train, method) {\n",
    "    if (train == 'SCN'){ \n",
    "        train = perf.SCN\n",
    "        train.name <- 'SCN trained'\n",
    "\n",
    "    } else if(train == 'SR') {\n",
    "        train = perf.SR\n",
    "        train.name <- 'SingleR trained'\n",
    "        }\n",
    "\n",
    "    # AUC plot    \n",
    "    AUC_pROC <- as.numeric(train$AUC_pROC)\n",
    "    data <- train[train$method == method,]\n",
    "    data <- data[order(data$AUC_pROC),]\n",
    "    data$threshold <- as.factor(data$threshold)\n",
    "\n",
    "    main.levels <- levels(data$threshold)[12:length(levels(data$threshold))]  #c('0.6','0.7','0.8','0.9','1.0','1.5','2.0','3.0','4.0','untransformed')\n",
    "    inset.levels <- levels(data$threshold)[1:11] #c('0.0','0.05','0.1','0.15','0.2','0.25','0.3','0.35','0.4','0.45','0.5')\n",
    "\n",
    "    plot <- ggplot(data, aes(threshold, AUC_pROC )) + \n",
    "                geom_point(aes(color = as.factor(class)), size = 4, alpha = 0.7) + \n",
    "                xlab(\"threshold (x1000)\") + ylab(\"AUROCC\") + labs(color='Class')  +\n",
    "                theme_classic() + \n",
    "                theme( plot.title = element_text(vjust = 2, hjust = 0.5)) + # center plot title\n",
    "                ggtitle(paste(train.name, \"transformed\", method, sep =' - ')) \n",
    "\n",
    "    # main.plot <- plot +       \n",
    "    #             geom_point(aes(color = as.factor(class)), size = 2.5, alpha = 0.7) + \n",
    "    #             scale_x_discrete(breaks=main.levels, limits=main.levels) +\n",
    "    #             ylim(min(data$AUC_pROC[22:42]*0.9), max(data$AUC_pROC[22:42])) +\n",
    "    #             ggtitle(paste(train.name, \"transformed\", method, sep =' - ')) \n",
    "\n",
    "\n",
    "    # inset.plot <- plot + \n",
    "    #             geom_point(aes(color = as.factor(class)), size = 2.5, alpha = 0.7) + \n",
    "    #             scale_x_discrete(guide=guide_axis(n.dodge=2), breaks=inset.levels, limits=inset.levels) +\n",
    "    #             scale_y_continuous(limits=c(min(data$AUC_pROC[1:22]*0.9), max(data$AUC_pROC[1:22])*1.1), breaks = c(0.5, 0.7, 0.9), labels = c('0.5', '0.7', '0.9')) + \n",
    "    #             theme(legend.position = \"none\", axis.title.x = element_blank(), axis.title.y = element_blank(), axis.text = element_text(color = 'black'))\n",
    "                \n",
    "\n",
    "    # ggdraw() +\n",
    "    # draw_plot(main.plot ) +\n",
    "    # draw_plot(inset.plot, x = 0.5, y = .15, width = .37, height = .4)\n",
    "    # spacer <- NULL\n",
    "    # ggarrange(grobs =  inset.plot, spacer, main.plot, ncol = 3, nrow = 1, widths=c(100, 20, 100),   common.legend = TRUE) \n",
    "    plot\n",
    "}\n",
    "\n",
    "\n",
    "# summary plots\n",
    "plot1 <- AUCplot('SR', 'poisson')\n",
    "plot2 <- AUCplot('SCN', 'poisson')\n",
    "\n",
    "plot3 <- AUCplot('SR', 'non-binary')\n",
    "plot4 <- AUCplot('SCN', 'non-binary')\n",
    "\n",
    "plot5 <- AUCplot('SR', 'binary')\n",
    "plot6 <- AUCplot('SCN', 'binary')\n",
    "\n",
    "\n",
    "\n",
    "pdf('Figures/Fig.3c.pdf', width = 14, height = 6)\n",
    "plot1\n",
    "dev.off()\n",
    "\n",
    "pdf('Figures/Fig.3d.pdf', width = 14, height = 6)\n",
    "plot2\n",
    "dev.off()\n",
    "\n",
    "pdf('Figures/Supp.2c.pdf', width = 14, height = 6)\n",
    "plot3\n",
    "dev.off()\n",
    "\n",
    "pdf('Figures/Supp.2d.pdf', width = 14, height = 6)\n",
    "plot4\n",
    "dev.off()\n",
    "\n",
    "pdf('Figures/Supp.3c.pdf', width = 14, height = 6)\n",
    "plot5\n",
    "dev.off()\n",
    "\n",
    "pdf('Figures/Supp.3d.pdf', width = 14, height = 6)\n",
    "plot6\n",
    "dev.off()\n",
    "\n",
    "options(repr.plot.width=14, repr.plot.height=6)"
   ],
   "outputs": [
    {
     "output_type": "display_data",
     "data": {
      "text/plain": [
       "pdf \n",
       "  2 "
      ],
      "text/markdown": [
       "**pdf:** 2"
      ],
      "text/latex": [
       "\\textbf{pdf:} 2"
      ],
      "text/html": [
       "<strong>pdf:</strong> 2"
      ]
     },
     "metadata": {}
    },
    {
     "output_type": "display_data",
     "data": {
      "text/plain": [
       "pdf \n",
       "  2 "
      ],
      "text/markdown": [
       "**pdf:** 2"
      ],
      "text/latex": [
       "\\textbf{pdf:} 2"
      ],
      "text/html": [
       "<strong>pdf:</strong> 2"
      ]
     },
     "metadata": {}
    },
    {
     "output_type": "display_data",
     "data": {
      "text/plain": [
       "pdf \n",
       "  2 "
      ],
      "text/markdown": [
       "**pdf:** 2"
      ],
      "text/latex": [
       "\\textbf{pdf:} 2"
      ],
      "text/html": [
       "<strong>pdf:</strong> 2"
      ]
     },
     "metadata": {}
    },
    {
     "output_type": "display_data",
     "data": {
      "text/plain": [
       "pdf \n",
       "  2 "
      ],
      "text/markdown": [
       "**pdf:** 2"
      ],
      "text/latex": [
       "\\textbf{pdf:} 2"
      ],
      "text/html": [
       "<strong>pdf:</strong> 2"
      ]
     },
     "metadata": {}
    },
    {
     "output_type": "display_data",
     "data": {
      "text/plain": [
       "pdf \n",
       "  2 "
      ],
      "text/markdown": [
       "**pdf:** 2"
      ],
      "text/latex": [
       "\\textbf{pdf:} 2"
      ],
      "text/html": [
       "<strong>pdf:</strong> 2"
      ]
     },
     "metadata": {}
    },
    {
     "output_type": "display_data",
     "data": {
      "text/plain": [
       "pdf \n",
       "  2 "
      ],
      "text/markdown": [
       "**pdf:** 2"
      ],
      "text/latex": [
       "\\textbf{pdf:} 2"
      ],
      "text/html": [
       "<strong>pdf:</strong> 2"
      ]
     },
     "metadata": {}
    }
   ],
   "metadata": {}
  },
  {
   "cell_type": "code",
   "execution_count": 102,
   "source": [
    "# Figure 3a,b | supp. 1a,b | supp. 2a,b\n",
    "\n",
    "mean.v = -70\n",
    "median.v = -68\n",
    "mean.median.h = 22.5\n",
    "# show reads and genes distribution, mean and median \n",
    "statplot <- function(method){\n",
    "    if (method == 'binary'){\n",
    "        table_type <- 'genes'\n",
    "        dist.reads.data <- dist.reads_binary\n",
    "        dist.genes.data <- dist.genes_binary\n",
    "        stats.reads.data <- stat.reads_binary\n",
    "        stats.genes.data <- stat.genes_binary\n",
    "\n",
    "        } else if (method == 'poisson'){\n",
    "        table_type <- 'reads'\n",
    "        dist.reads.data <- dist.reads_poisson\n",
    "        dist.genes.data <- dist.genes_poisson\n",
    "        stats.reads.data <- stat.reads_poisson\n",
    "        stats.genes.data <- stat.genes_poisson\n",
    "\n",
    "\n",
    "        } else if (method == 'non-binary'){\n",
    "        table_type <- 'genes'\n",
    "        dist.reads.data <- dist.reads_nonbin\n",
    "        dist.genes.data <- dist.genes_nonbin\n",
    "        stats.reads.data <- stat.reads_nonbin\n",
    "        stats.genes.data <- stat.genes_nonbin\n",
    "        }\n",
    "    # UMI distribution plot \n",
    "    plot1 <- ggplot(dist.reads.data, aes(Var2, value)) + \n",
    "                geom_boxplot() + \n",
    "                stat_summary(fun= mean, colour=\"darkred\", geom=\"point\", shape=18, size=2, show.legend=FALSE) + # mean figure\n",
    "                geom_text(data = stats.reads.data, aes(label = Mean, y =  10), vjust= mean.v, size = 2.4, colour=\"darkred\") +  # mean data\n",
    "                geom_text(data = stats.reads.data, aes(label = median, y =  10), vjust= median.v, size = 2.4, colour=\"black\") +  # median data \n",
    "                xlab(paste('number of', table_type, 'threshold (x1000)'))  + ylab(\"number of reads observed\") + \n",
    "                scale_x_discrete(guide=guide_axis(n.dodge=2)) +\n",
    "                theme_classic() +\n",
    "                theme(plot.title = element_text(vjust = 9, hjust = 0.5), # title centered & up to accomodate stats annotations\n",
    "                    axis.title=element_text(size= 9,face=\"bold\")) + # adjust axis label sizes\n",
    "                coord_cartesian(clip = \"off\")+\n",
    "            theme(plot.margin = unit(c(0,1.5,0.5,0.5), \"cm\"))\n",
    "\n",
    "    # genes distribution plot \n",
    "    plot2 <- ggplot(dist.genes.data, aes(as.factor(Var2), value)) + \n",
    "            geom_boxplot() + \n",
    "            stat_summary(fun= mean, colour=\"darkred\", geom=\"point\", shape=18, size=2, show.legend=FALSE) + # mean figure\n",
    "            geom_text(data = stats.genes.data, aes(label = Mean, y =  10), vjust= mean.v, size = 2.4, colour=\"darkred\") +  # mean data \n",
    "            geom_text(data = stats.genes.data, aes(label = median, y =  10), vjust= median.v, size = 2.4, colour=\"black\") +  # median data \n",
    "            xlab(paste('number of', table_type, 'threshold (x1000)')) + ylab(\"number of genes observed\") + \n",
    "            scale_x_discrete(guide=guide_axis(n.dodge=2)) +\n",
    "            theme_classic() +\n",
    "            theme(plot.title = element_text(vjust = 9, hjust = 0.5), # title centered & up to accomodate stats annotations\n",
    "                axis.title=element_text(size= 9,face=\"bold\") ) + \n",
    "            coord_cartesian(clip = \"off\") +\n",
    "            theme(plot.margin = unit(c(0,1.5,0.5,0.5), \"cm\"))\n",
    "\n",
    "    spacer <- NULL\n",
    "    ggarrange(grobs = spacer,spacer,spacer,plot1, spacer, plot2, ncol = 3, nrow = 2, widths=c( 100, 10, 100),  heights=c( 10, 100)) \n",
    "}\n",
    "\n",
    "plot1 <- statplot('poisson')\n",
    "plot2 <- statplot('non-binary')\n",
    "plot3 <- statplot('binary')\n",
    "\n",
    "pdf('Figures/Fig.3ab.pdf', width = 16, height = 6)\n",
    "plot1\n",
    "dev.off()\n",
    "\n",
    "pdf('Figures/Supp.2ab.pdf', width = 16, height = 6)\n",
    "plot2\n",
    "dev.off()\n",
    "\n",
    "pdf('Figures/Supp.3ab.pdf', width = 16, height = 6)\n",
    "plot3\n",
    "dev.off()\n",
    "\n",
    "options(repr.plot.width=16, repr.plot.height=6)\n",
    "\n"
   ],
   "outputs": [
    {
     "output_type": "display_data",
     "data": {
      "text/plain": [
       "pdf \n",
       "  2 "
      ],
      "text/markdown": [
       "**pdf:** 2"
      ],
      "text/latex": [
       "\\textbf{pdf:} 2"
      ],
      "text/html": [
       "<strong>pdf:</strong> 2"
      ]
     },
     "metadata": {}
    },
    {
     "output_type": "display_data",
     "data": {
      "text/plain": [
       "pdf \n",
       "  2 "
      ],
      "text/markdown": [
       "**pdf:** 2"
      ],
      "text/latex": [
       "\\textbf{pdf:} 2"
      ],
      "text/html": [
       "<strong>pdf:</strong> 2"
      ]
     },
     "metadata": {}
    },
    {
     "output_type": "display_data",
     "data": {
      "text/plain": [
       "pdf \n",
       "  2 "
      ],
      "text/markdown": [
       "**pdf:** 2"
      ],
      "text/latex": [
       "\\textbf{pdf:} 2"
      ],
      "text/html": [
       "<strong>pdf:</strong> 2"
      ]
     },
     "metadata": {}
    }
   ],
   "metadata": {}
  },
  {
   "cell_type": "code",
   "execution_count": 1,
   "source": [
    "# Figure 4\n",
    "\n",
    "library(qs)\n",
    "library(Seurat)\n",
    "library(singleCellNet)\n",
    "\n",
    "setwd('/Users/ibishara/Desktop/FELINE_C1/')\n",
    "\n",
    "seu_HQ <- qread(file = \"seu_HQ_no_id.qs\")\n",
    "seu_HQ <- subset(x = seu_HQ, subset = Celltype != \"Normal epithelial cells\")   ## Removes normal epithelial cells. Genes unique to normal epi cells are removed from analysis downstream\n",
    "seu_HQ <- subset(seu_HQ, subset = nCount_RNA < 15000 ) \n",
    "##\n",
    "\n",
    "\n",
    "red.reads <- function(x, y){\n",
    "    x <- round(x * rpois(n=length(x), lambda=y/sum(x)))\n",
    "    return(x)\n",
    "    }\n",
    "\n",
    "meta <- seu_HQ@meta.data\n",
    "seu.HQ.counts <- GetAssayData(seu_HQ, assay = \"RNA\")\n",
    "\n",
    "# class <- 'Celltype' , 'Lineage'\n",
    "# i <- numerical threshold\n",
    "umap_transformed <- function(class, i){\n",
    "    set.seed(200)\n",
    "\n",
    "    # Split 50 / 50 \n",
    "    ncells <- 3000 # uses half for training\n",
    "    stList = splitCommon(sampTab = meta, ncells = ncells, dLevel = class)\n",
    "    stSub = stList[[1]]\n",
    "    stTrain = stSub[sample(nrow(stSub), round(nrow(stSub)/2)), ]\n",
    "    stTest = stSub[! rownames(stSub) %in% rownames(stTrain) ,]\n",
    "    counts = seu.HQ.counts[ , rownames(stTest)]\n",
    "\n",
    "    transformed <- apply(X = counts, MARGIN = 2, FUN = red.reads, y = i) # run 2nd function to reduce the number of count per cell above threshold. iterates over columns (cells)\n",
    "    meta_transformed <- meta[colnames(transformed), ]\n",
    "        if ( class == 'Lineage'){ table(meta_transformed$Lineage)\n",
    "        } else if ( class == 'Celltype') {table(meta_transformed$Celltype)    }\n",
    "\n",
    "\n",
    "    seu_HQ_transformed <- CreateSeuratObject(counts= transformed, min.features= 0, min.cells = 0, names.delim= \"_\", meta.data= meta_transformed) \n",
    "\n",
    "    ## Normalize and scale \n",
    "\n",
    "    seu_HQ_transformed <- NormalizeData(seu_HQ_transformed, verbose = FALSE)\n",
    "    seu_HQ_transformed <- FindVariableFeatures(seu_HQ_transformed, verbose = FALSE)\n",
    "    genes <- rownames(seu_HQ_transformed)\n",
    "    seu_HQ_transformed <- ScaleData(seu_HQ_transformed, features = genes, verbose = FALSE)\n",
    "    seu_HQ_transformed <- RunPCA(seu_HQ_transformed, features = VariableFeatures(object = seu_HQ_transformed), verbose = FALSE)\n",
    "    ElbowPlot(seu_HQ_transformed, ndims = 50)\n",
    "\n",
    "    ## Cell clustering\n",
    "    seu_HQ_transformed <- FindNeighbors(seu_HQ_transformed, dims = 1:10, verbose = FALSE) \n",
    "    # seu_HQ_transformed <- FindClusters(seu_HQ_transformed, resolution = 0.1, verbose = FALSE)\n",
    "\n",
    "    ## UMAP\n",
    "    seu_HQ_transformed <- RunUMAP(seu_HQ_transformed, dims = 1:10, verbose = FALSE)\n",
    "    DimPlot(seu_HQ_transformed, reduction = \"umap\", group.by = class) + ggtitle(i)\n",
    "}\n",
    "\n"
   ],
   "outputs": [
    {
     "output_type": "stream",
     "name": "stderr",
     "text": [
      "qs v0.23.6.\n",
      "\n",
      "Attaching SeuratObject\n",
      "\n",
      "Loading required package: ggplot2\n",
      "\n",
      "Loading required package: dplyr\n",
      "\n",
      "\n",
      "Attaching package: 'dplyr'\n",
      "\n",
      "\n",
      "The following objects are masked from 'package:stats':\n",
      "\n",
      "    filter, lag\n",
      "\n",
      "\n",
      "The following objects are masked from 'package:base':\n",
      "\n",
      "    intersect, setdiff, setequal, union\n",
      "\n",
      "\n",
      "Loading required package: pheatmap\n",
      "\n",
      "Loading required package: reshape2\n",
      "\n",
      "Loading required package: cowplot\n",
      "\n"
     ]
    }
   ],
   "metadata": {}
  },
  {
   "cell_type": "code",
   "execution_count": 2,
   "source": [
    "# Figure 4\n",
    "library(parallel)\n",
    "library(patchwork)\n",
    "\n",
    "numCores <- detectCores()\n",
    "\n",
    "celltype <- mclapply(c(1500, 450, 350, 250, 150),\n",
    "             FUN=function(i) umap_transformed('Celltype', i) + ggtitle(i),\n",
    "             mc.cores = numCores)\n",
    "\n",
    "lineage <- mclapply(c(1500, 450, 350, 250, 150),\n",
    "             FUN=function(i) umap_transformed('Lineage', i) + ggtitle(i),\n",
    "             mc.cores = numCores)\n",
    "\n"
   ],
   "outputs": [
    {
     "output_type": "stream",
     "name": "stderr",
     "text": [
      "\n",
      "Attaching package: 'patchwork'\n",
      "\n",
      "\n",
      "The following object is masked from 'package:cowplot':\n",
      "\n",
      "    align_plots\n",
      "\n",
      "\n"
     ]
    }
   ],
   "metadata": {}
  },
  {
   "cell_type": "code",
   "execution_count": 7,
   "source": [
    "# Figure 4\n",
    "combined.lineage <- lineage[[1]]+ lineage[[2]] + lineage[[3]] + lineage[[4]] + lineage[[5]] & theme(legend.position = \"right\") \n",
    "combined.celltype <- celltype[[1]]+ celltype[[2]] + celltype[[3]] + celltype[[4]] + celltype[[5]] & theme(legend.position = \"right\") \n",
    "\n",
    "pdf('Figures/Fig.4a.pdf', width = 16, height = 4)\n",
    "    combined.lineage + plot_layout(guides = \"collect\", ncol =5)\n",
    "dev.off()\n",
    "\n",
    "pdf('Figures/Fig.4b.pdf', width = 16, height = 4)\n",
    "    combined.celltype + plot_layout(guides = \"collect\", ncol =5)\n",
    "dev.off()\n",
    "\n"
   ],
   "outputs": [
    {
     "output_type": "display_data",
     "data": {
      "text/plain": [
       "pdf \n",
       "  2 "
      ],
      "text/markdown": [
       "**pdf:** 2"
      ],
      "text/latex": [
       "\\textbf{pdf:} 2"
      ],
      "text/html": [
       "<strong>pdf:</strong> 2"
      ]
     },
     "metadata": {}
    },
    {
     "output_type": "display_data",
     "data": {
      "text/plain": [
       "pdf \n",
       "  2 "
      ],
      "text/markdown": [
       "**pdf:** 2"
      ],
      "text/latex": [
       "\\textbf{pdf:} 2"
      ],
      "text/html": [
       "<strong>pdf:</strong> 2"
      ]
     },
     "metadata": {}
    }
   ],
   "metadata": {}
  },
  {
   "cell_type": "code",
   "execution_count": 60,
   "source": [
    "# Figure 5\n",
    "\n",
    "setwd('/Users/ibishara/Desktop/FELINE_C1/')\n",
    "\n",
    "# packages\n",
    "library(data.table)\n",
    "library(tidyverse)\n",
    "library(qs)\n",
    "library(ggplot2)\n",
    "library(patchwork)\n",
    "\n",
    "# data\n",
    "meta_sub_LQ <- fread('metadata_subsample_LQ_no_id.txt', sep='\\t', data.table=F) # low quality subsample metadata\n",
    "meta_sub_HQ <- fread('metadata_subsample_HQ_no_id.txt', sep='\\t', data.table=F) # high quality subsample metadata\n",
    "\n",
    "meta_sub <- bind_rows(meta_sub_HQ, meta_sub_LQ) # combine HQ & LQ metadata\n",
    "\n",
    "\n",
    "## indexing \n",
    "# Lineage\n",
    "epi.ind <- which(meta_sub$Lineage == \"Epithelial_cells\")\n",
    "mes.ind <- which(meta_sub$Lineage == \"Stromal_cells\")\n",
    "hem.ind <- which(meta_sub$Lineage == \"Immune_cells\")\n",
    "\n",
    "# LQ cell type labels\n",
    "tcell.ind.LQ <- which( meta_sub$hpca == \"T_cells\" )\n",
    "bcell.ind.LQ <- which( meta_sub$hpca == \"B_cell\" )\n",
    "macro.ind.LQ <- which( meta_sub$hpca == \"Macrophage\" | meta_sub$hpca == \"Monocyte\")\n",
    "fibro.ind.LQ <- which( meta_sub$hpca == \"Fibroblasts\")\n",
    "\n",
    "# LQ cell type labels\n",
    "tcell.ind.HQ <- which( meta_sub$Celltype == \"T cells\" )\n",
    "bcell.ind.HQ <- which( meta_sub$Celltype == \"B cells\" )\n",
    "macro.ind.HQ <- which( meta_sub$Celltype == \"Macrophages\")\n",
    "fibro.ind.HQ <- which( meta_sub$Celltype == \"Fibroblasts\")\n",
    "\n",
    "# combined cell type labels\n",
    "tcell.ind <- c(tcell.ind.LQ, tcell.ind.HQ)\n",
    "bcell.ind <- c(bcell.ind.LQ, bcell.ind.HQ)\n",
    "macro.ind <- c(macro.ind.LQ, macro.ind.HQ)\n",
    "fibro.ind <- c(fibro.ind.LQ, fibro.ind.HQ)\n",
    "\n",
    "\n",
    "## setting cut-offs\n",
    "## JF's cut-off for FELINE_C1: > 2000 UMI. 500 - 7000 genes \n",
    "nCount_RNA_cutoff <- 1500\n",
    "new.nCount_RNA_cutoff <- 450\n",
    "\n",
    "pre.retained.all <- length(which(meta_sub$nCount_RNA > nCount_RNA_cutoff))\n",
    "post.retained.all <- length(which(meta_sub$nCount_RNA < nCount_RNA_cutoff & meta_sub$nCount_RNA > new.nCount_RNA_cutoff))\n",
    "\n",
    "pre.retained.epi <- length(which(meta_sub$nCount_RNA[epi.ind] > nCount_RNA_cutoff))\n",
    "post.retained.epi <- length(which(meta_sub$nCount_RNA[epi.ind] < nCount_RNA_cutoff & meta_sub$nCount_RNA[epi.ind] > new.nCount_RNA_cutoff))\n",
    "\n",
    "pre.retained.mes <- length(which(meta_sub$nCount_RNA[mes.ind] > nCount_RNA_cutoff))\n",
    "post.retained.mes <- length(which(meta_sub$nCount_RNA[mes.ind] < nCount_RNA_cutoff & meta_sub$nCount_RNA[mes.ind] > new.nCount_RNA_cutoff))\n",
    "\n",
    "pre.retained.hem <- length(which(meta_sub$nCount_RNA[hem.ind] > nCount_RNA_cutoff))\n",
    "post.retained.hem <- length(which(meta_sub$nCount_RNA[hem.ind] < nCount_RNA_cutoff & meta_sub$nCount_RNA[hem.ind] > new.nCount_RNA_cutoff))\n",
    "\n",
    "\n",
    "pre.retained.fibro <- length(which(meta_sub$nCount_RNA[fibro.ind] > nCount_RNA_cutoff))\n",
    "post.retained.fibro <- length(which(meta_sub$nCount_RNA[fibro.ind] < nCount_RNA_cutoff & meta_sub$nCount_RNA[fibro.ind] > new.nCount_RNA_cutoff))\n",
    "\n",
    "pre.retained.bcell <- length(which(meta_sub$nCount_RNA[bcell.ind] > nCount_RNA_cutoff))\n",
    "post.retained.bcell <- length(which(meta_sub$nCount_RNA[bcell.ind] < nCount_RNA_cutoff & meta_sub$nCount_RNA[bcell.ind] > new.nCount_RNA_cutoff))\n",
    "\n",
    "pre.retained.tcell <- length(which(meta_sub$nCount_RNA[tcell.ind] > nCount_RNA_cutoff))\n",
    "post.retained.tcell <- length(which(meta_sub$nCount_RNA[tcell.ind] < nCount_RNA_cutoff & meta_sub$nCount_RNA[tcell.ind] > new.nCount_RNA_cutoff))\n",
    "\n",
    "pre.retained.macro <- length(which(meta_sub$nCount_RNA[macro.ind] > nCount_RNA_cutoff))\n",
    "post.retained.macro <- length(which(meta_sub$nCount_RNA[macro.ind] < nCount_RNA_cutoff & meta_sub$nCount_RNA[macro.ind] > new.nCount_RNA_cutoff))\n",
    "\n"
   ],
   "outputs": [],
   "metadata": {}
  },
  {
   "cell_type": "code",
   "execution_count": 256,
   "source": [
    "# Figure 5a\n",
    "\n",
    "options(repr.plot.width=14, repr.plot.height=6)\n",
    "\n",
    "title.size <- 1.4\n",
    "lab.size <- 1.0\n",
    "sub.size <- 1.4\n",
    "\n",
    "\n",
    "## Plot number of reads and genes by lineage\n",
    "pdf('Figures/Fig.5a.pdf', width = 14, height = 6)\n",
    "par(mfrow=c(2,4), mar=c(6,5,5,1))\n",
    "\n",
    "plot(main = \"All cells: total reads (log10)\", density(log10(meta_sub$nCount_RNA)), , cex.main = title.size, cex.lab = lab.size, cex.sub= sub.size); abline(v=log10(nCount_RNA_cutoff), lty=2, col=\"darkred\"); abline(v=log10(new.nCount_RNA_cutoff), lty=2, col=\"#51a706\")\n",
    "mtext(line= -17.2, adj=0.5, cex=1, paste('Percent cells gained:', round(100*post.retained.all/pre.retained.all),'%', '( n =', post.retained.all, ')' ))  # subtitle\n",
    "\n",
    "plot(main = \"Epithelial cells: total reads (log10)\", density(log10(meta_sub$nCount_RNA[epi.ind])), cex.main = title.size, cex.lab = lab.size, cex.sub= sub.size); abline(v=log10(nCount_RNA_cutoff), lty=2, col=\"darkred\"); abline(v=log10(new.nCount_RNA_cutoff), lty=2, col=\"#51a706\")\n",
    "mtext(line= -17.2, adj=0.5, cex=1, paste('Percent cells gained:', round(100*post.retained.epi/pre.retained.epi),'%', '( n =', post.retained.epi, ')' ))  # subtitle\n",
    "\n",
    "plot(main = \"Stromal_cells: total reads (log10)\", density(log10(meta_sub$nCount_RNA[mes.ind])), cex.main = title.size, cex.lab = lab.size, cex.sub= sub.size); abline(v=log10(nCount_RNA_cutoff), lty=2, col=\"darkred\"); abline(v=log10(new.nCount_RNA_cutoff), lty=2, col=\"#51a706\")\n",
    "mtext(line= -17.2, adj=0.5, cex=1, paste('Percent cells gained:', round(100*post.retained.mes/pre.retained.mes),'%', '( n =', post.retained.mes, ')' ))  # subtitle\n",
    "\n",
    "plot(main = \"Immune_cells: total reads (log10)\", density(log10(meta_sub$nCount_RNA[hem.ind])), cex.main = title.size, cex.lab = lab.size, cex.sub= sub.size); abline(v=log10(nCount_RNA_cutoff), lty=2, col=\"darkred\"); abline(v=log10(new.nCount_RNA_cutoff), lty=2, col=\"#51a706\")\n",
    "mtext(line= -17.2, adj=0.5, cex=1, paste('Percent cells gained:', round(100*post.retained.hem/pre.retained.hem),'%', '( n =', post.retained.hem, ')' ))  # subtitle\n",
    "\n",
    "plot(main = \"Fibroblasts: total reads (log10)\", density(log10(meta_sub$nCount_RNA[fibro.ind])), cex.main = title.size, cex.lab = lab.size, cex.sub= sub.size); abline(v=log10(nCount_RNA_cutoff), lty=2, col=\"darkred\"); abline(v=log10(new.nCount_RNA_cutoff), lty=2, col=\"#51a706\")\n",
    "mtext(line=  -17.2, adj=0.5, cex=1, paste('Percent cells gained:', round(100*post.retained.fibro/pre.retained.fibro),'%', '( n =', post.retained.fibro, ')' ))  # subtitle\n",
    "\n",
    "plot(main = \"B.cells: total reads (log10)\", density(log10(meta_sub$nCount_RNA[bcell.ind])), cex.main = title.size, cex.lab = lab.size, cex.sub= sub.size); abline(v=log10(nCount_RNA_cutoff), lty=2, col=\"darkred\"); abline(v=log10(new.nCount_RNA_cutoff), lty=2, col=\"#51a706\")\n",
    "mtext(line=  -17.2, adj=0.5, cex=1, paste('Percent cells gained:', round(100*post.retained.bcell/pre.retained.bcell),'%', '( n =', post.retained.bcell, ')' ))  # subtitle\n",
    "\n",
    "plot(main = \"T.cells: total reads (log10)\", density(log10(meta_sub$nCount_RNA[tcell.ind])), cex.main = title.size, cex.lab = lab.size, cex.sub= sub.size); abline(v=log10(nCount_RNA_cutoff), lty=2, col=\"darkred\"); abline(v=log10(new.nCount_RNA_cutoff), lty=2, col=\"#51a706\")\n",
    "mtext(line=  -17.2, adj=0.5, cex=1, paste('Percent cells gained:', round(100*post.retained.tcell/pre.retained.tcell),'%', '( n =', post.retained.tcell, ')' ))  # subtitle\n",
    "\n",
    "plot(main = \"Macrophages: total reads (log10)\", density(log10(meta_sub$nCount_RNA[macro.ind])), cex.main = title.size, cex.lab = lab.size, cex.sub= sub.size); abline(v=log10(nCount_RNA_cutoff), lty=2, col=\"darkred\"); abline(v=log10(new.nCount_RNA_cutoff), lty=2, col=\"#51a706\")\n",
    "mtext(line= -17.2, adj=0.5, cex=1, paste('Percent cells gained:', round(100*post.retained.macro/pre.retained.macro),'%', '( n =', post.retained.macro, ')' ))  # subtitle\n",
    "\n",
    "dev.off()\n"
   ],
   "outputs": [
    {
     "output_type": "display_data",
     "data": {
      "text/plain": [
       "[1] 1692"
      ],
      "text/markdown": [
       "1692"
      ],
      "text/latex": [
       "1692"
      ],
      "text/html": [
       "1692"
      ]
     },
     "metadata": {}
    },
    {
     "output_type": "display_data",
     "data": {
      "text/plain": [
       "[1] 2976"
      ],
      "text/markdown": [
       "2976"
      ],
      "text/latex": [
       "2976"
      ],
      "text/html": [
       "2976"
      ]
     },
     "metadata": {}
    },
    {
     "output_type": "display_data",
     "data": {
      "text/plain": [
       "[1] 4668"
      ],
      "text/markdown": [
       "4668"
      ],
      "text/latex": [
       "4668"
      ],
      "text/html": [
       "4668"
      ]
     },
     "metadata": {}
    },
    {
     "output_type": "display_data",
     "data": {
      "text/plain": [
       "Plot with title \"Macrophages: total reads (log10)\""
      ],
      "image/png": "[encoded data removed]"
     },
     "metadata": {
      "image/png": {
       "width": 840,
       "height": 360
      }
     }
    }
   ],
   "metadata": {}
  },
  {
   "cell_type": "code",
   "execution_count": 252,
   "source": [
    "# Figure 5b\n",
    "ct.pre <- c(pre.retained.epi,pre.retained.mes,pre.retained.hem, pre.retained.fibro, pre.retained.bcell,pre.retained.tcell,pre.retained.macro)\n",
    "ct.post <- c(post.retained.epi,post.retained.mes,post.retained.hem, post.retained.fibro, post.retained.bcell,post.retained.tcell,post.retained.macro)\n",
    "# pct <- pct.gained\n",
    "label<- c('Epithelial', 'Stromal', 'Immune', 'Fibroblasts', 'B-cells', 'T-cells', 'Macrophages')\n",
    "type <- c(rep('Lineage',3), rep('Celltype',4))\n",
    "data <- melt(data.frame(label , ct.pre, ct.post, type  ))\n",
    "\n",
    "data.lin <- data[data$type == 'Lineage' , ]\n",
    "data.type <- data[data$type == 'Celltype' , ]\n",
    "\n",
    "plot1 <- ggplot(data=data.lin, aes(x=label, y=value, fill=fct_rev(variable))) +\n",
    "  geom_bar(stat=\"identity\") +\n",
    "  theme_classic() +\n",
    "  scale_fill_manual(values=c('#77f670','#4e8bf3'))\n",
    "\n",
    "plot2 <- ggplot(data=data.type, aes(x=label, y=value, fill=fct_rev(variable))) +\n",
    "  geom_bar(stat=\"identity\") + \n",
    "  theme_classic() +\n",
    "  scale_fill_manual(values=c('#77f670','#4e8bf3'))\n",
    "\n",
    "p <- plot1 + plot2 & theme(legend.position = \"right\")\n",
    "\n",
    "\n",
    "pdf('Figures/Fig.5b.pdf', width = 7, height = 5.5)\n",
    "   p + plot_layout(guides = \"collect\")\n",
    "dev.off()\n",
    "  options(repr.plot.width=7, repr.plot.height=5.5)\n"
   ],
   "outputs": [
    {
     "output_type": "stream",
     "name": "stderr",
     "text": [
      "Warning message in melt(data.frame(label, ct.pre, ct.post, type)):\n",
      "\"The melt generic in data.table has been passed a data.frame and will attempt to redirect to the relevant reshape2 method; please note that reshape2 is deprecated, and this redirection is now deprecated as well. To continue using melt methods from reshape2 while both libraries are attached, e.g. melt.list, you can prepend the namespace like reshape2::melt(data.frame(label, ct.pre, ct.post, type)). In the next version, this warning will become an error.\"\n",
      "Using label, type as id variables\n",
      "\n"
     ]
    },
    {
     "output_type": "display_data",
     "data": {
      "text/plain": [
       "pdf \n",
       "  2 "
      ],
      "text/markdown": [
       "**pdf:** 2"
      ],
      "text/latex": [
       "\\textbf{pdf:} 2"
      ],
      "text/html": [
       "<strong>pdf:</strong> 2"
      ]
     },
     "metadata": {}
    }
   ],
   "metadata": {}
  },
  {
   "cell_type": "code",
   "execution_count": 3,
   "source": [
    "# supplementary figure 4 \n",
    "\n",
    "library(qs)\n",
    "library(Seurat)\n",
    "library(ggplot2)\n",
    "\n",
    "setwd('/Users/ibishara/Desktop/FELINE_C1/')\n",
    "\n",
    "## Generate UMAP for untransformed HQ\n",
    "seu_HQ <- qread(file = \"seu_HQ_no_id.qs\")\n",
    "seu_HQ <- subset(x = seu_HQ, subset = Celltype != \"Normal epithelial cells\")   ## Removes normal epithelial cells. Genes unique to normal epi cells are removed from analysis downstream\n",
    "seu_HQ <- subset(seu_HQ, subset = nCount_RNA < 15000 ) \n",
    "\n",
    "## Normalize and scale \n",
    "seu_HQ <- NormalizeData(seu_HQ, verbose = FALSE)\n",
    "genes <- rownames(seu_HQ)\n",
    "seu_HQ <- ScaleData(seu_HQ, features = genes, verbose = FALSE)\n",
    "seu_HQ <- RunPCA(seu_HQ, features = genes, verbose = FALSE)\n",
    "# ElbowPlot(seu_HQ, ndims = 50)\n",
    "\n",
    "## Cell clustering\n",
    "seu_HQ <- FindNeighbors(seu_HQ, dims = 1:20, verbose = FALSE) \n",
    "seu_HQ <- FindClusters(seu_HQ, resolution = 0.1, verbose = FALSE)\n",
    "\n",
    "## UMAP\n",
    "seu_HQ <- RunUMAP(seu_HQ, dims = 1:20, verbose = FALSE)\n",
    "\n",
    "pdf('Figures/Supp.4a.pdf', width = 6, height = 4)\n",
    "    DimPlot(seu_HQ, reduction = \"umap\", group.by = 'Lineage') \n",
    "dev.off()\n",
    "\n",
    "pdf('Figures/Supp.4b.pdf', width = 6, height = 4)\n",
    "    DimPlot(seu_HQ, reduction = \"umap\", group.by = 'Celltype') \n",
    "dev.off()\n",
    "\n",
    "options(repr.plot.width=4, repr.plot.height=6)\n"
   ],
   "outputs": [
    {
     "output_type": "stream",
     "name": "stderr",
     "text": [
      "Warning message:\n",
      "\"The default method for RunUMAP has changed from calling Python UMAP via reticulate to the R-native UWOT using the cosine metric\n",
      "To use Python UMAP via reticulate, set umap.method to 'umap-learn' and metric to 'correlation'\n",
      "This message will be shown once per session\"\n"
     ]
    },
    {
     "output_type": "display_data",
     "data": {
      "text/plain": [
       "pdf \n",
       "  2 "
      ],
      "text/markdown": [
       "**pdf:** 2"
      ],
      "text/latex": [
       "\\textbf{pdf:} 2"
      ],
      "text/html": [
       "<strong>pdf:</strong> 2"
      ]
     },
     "metadata": {}
    },
    {
     "output_type": "display_data",
     "data": {
      "text/plain": [
       "pdf \n",
       "  2 "
      ],
      "text/markdown": [
       "**pdf:** 2"
      ],
      "text/latex": [
       "\\textbf{pdf:} 2"
      ],
      "text/html": [
       "<strong>pdf:</strong> 2"
      ]
     },
     "metadata": {}
    }
   ],
   "metadata": {}
  },
  {
   "cell_type": "code",
   "execution_count": 52,
   "source": [
    "# supplementary figure 1\n",
    "\n",
    "# Celltype & Lineage gene expression \n",
    "\n",
    "Idents(object = seu_HQ) <- \"Lineage\"\n",
    "pdf('Figures/Supp.4b.pdf', width = 6, height = 4)\n",
    "    DotPlot(seu_HQ, assay = 'RNA',  features = c('KRT19', 'CDH1', # Epithelial\n",
    "                            'FAP', 'HTRA1', # Stromal\n",
    "                            'PTPRC'# Immune\n",
    "                            )) + \n",
    "                            ylab ( 'Lineage')  + \n",
    "                            xlab ( 'Marker gene') + \n",
    "                            theme(axis.text.x = element_text(angle = 45, hjust=1))\n",
    "\n",
    "dev.off()\n",
    "\n",
    "\n",
    "Idents(object = seu_HQ) <- \"Celltype\"\n",
    "pdf('Figures/Supp.4a.pdf', width = 8, height = 4)\n",
    "    DotPlot(seu_HQ, assay = 'RNA',  features = c('CSF1R' , \"CD163\", # macrophages \n",
    "                            \"CD2\", \"CD247\", # T-cell\n",
    "                            'MS4A1', 'IGHM', # B-cell\n",
    "                            \"COL5A1\", \"FBLN1\", # fibroblasts\n",
    "                            'VWF', # Endothelial\n",
    "                            'RGS5', # Pericytes\n",
    "                            \"CIDEA\" # Adipocytes\n",
    "                            )) + \n",
    "                            ylab ( 'Cell type')  + \n",
    "                            xlab ( 'Marker gene') + \n",
    "                            theme(axis.text.x = element_text(angle = 45, hjust=1))\n",
    "dev.off()\n",
    "\n",
    "options(repr.plot.width=6, repr.plot.height=4)\n"
   ],
   "outputs": [
    {
     "output_type": "display_data",
     "data": {
      "text/plain": [
       "pdf \n",
       "  2 "
      ],
      "text/markdown": [
       "**pdf:** 2"
      ],
      "text/latex": [
       "\\textbf{pdf:} 2"
      ],
      "text/html": [
       "<strong>pdf:</strong> 2"
      ]
     },
     "metadata": {}
    },
    {
     "output_type": "display_data",
     "data": {
      "text/plain": [
       "pdf \n",
       "  2 "
      ],
      "text/markdown": [
       "**pdf:** 2"
      ],
      "text/latex": [
       "\\textbf{pdf:} 2"
      ],
      "text/html": [
       "<strong>pdf:</strong> 2"
      ]
     },
     "metadata": {}
    }
   ],
   "metadata": {}
  }
 ],
 "metadata": {
  "orig_nbformat": 4,
  "language_info": {
   "name": "R",
   "codemirror_mode": "r",
   "pygments_lexer": "r",
   "mimetype": "text/x-r-source",
   "file_extension": ".r",
   "version": "4.1.1"
  },
  "kernelspec": {
   "name": "analysis",
   "display_name": "R analysis",
   "language": "R"
  },
  "interpreter": {
   "hash": "73599773f4e325ae8e02971cae44a50349d00cbeaed1006b45f54a24b2a1ed49"
  }
 },
 "nbformat": 4,
 "nbformat_minor": 2
}