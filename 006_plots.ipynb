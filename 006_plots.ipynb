{
 "cells": [
  {
   "cell_type": "code",
   "execution_count": 1,
   "source": [
    "# Figure 2\n",
    "\n",
    "setwd('/Users/ibishara/Desktop/FELINE_C1/')\n",
    "\n",
    "# packages\n",
    "library(data.table)\n",
    "library(tidyverse)\n",
    "library(qs)\n",
    "\n",
    "# data\n",
    "meta_sub_LQ <- fread('metadata_subsample_LQ_no_id.txt', sep='\\t', data.table=F) # low quality subsample metadata\n",
    "meta_sub_HQ <- fread('metadata_subsample_HQ_no_id.txt', sep='\\t', data.table=F) # high quality subsample metadata\n",
    "\n",
    "meta_sub <- bind_rows(meta_sub_HQ, meta_sub_LQ) # combine HQ & LQ metadata\n"
   ],
   "outputs": [
    {
     "output_type": "stream",
     "name": "stderr",
     "text": [
      "-- \u001b[1mAttaching packages\u001b[22m --------------------------------------- tidyverse 1.3.1 --\n",
      "\n",
      "\u001b[32mv\u001b[39m \u001b[34mggplot2\u001b[39m 3.3.5     \u001b[32mv\u001b[39m \u001b[34mpurrr  \u001b[39m 0.3.4\n",
      "\u001b[32mv\u001b[39m \u001b[34mtibble \u001b[39m 3.1.6     \u001b[32mv\u001b[39m \u001b[34mdplyr  \u001b[39m 1.0.7\n",
      "\u001b[32mv\u001b[39m \u001b[34mtidyr  \u001b[39m 1.1.3     \u001b[32mv\u001b[39m \u001b[34mstringr\u001b[39m 1.4.0\n",
      "\u001b[32mv\u001b[39m \u001b[34mreadr  \u001b[39m 2.0.2     \u001b[32mv\u001b[39m \u001b[34mforcats\u001b[39m 0.5.1\n",
      "\n",
      "-- \u001b[1mConflicts\u001b[22m ------------------------------------------ tidyverse_conflicts() --\n",
      "\u001b[31mx\u001b[39m \u001b[34mdplyr\u001b[39m::\u001b[32mbetween()\u001b[39m   masks \u001b[34mdata.table\u001b[39m::between()\n",
      "\u001b[31mx\u001b[39m \u001b[34mdplyr\u001b[39m::\u001b[32mfilter()\u001b[39m    masks \u001b[34mstats\u001b[39m::filter()\n",
      "\u001b[31mx\u001b[39m \u001b[34mdplyr\u001b[39m::\u001b[32mfirst()\u001b[39m     masks \u001b[34mdata.table\u001b[39m::first()\n",
      "\u001b[31mx\u001b[39m \u001b[34mdplyr\u001b[39m::\u001b[32mlag()\u001b[39m       masks \u001b[34mstats\u001b[39m::lag()\n",
      "\u001b[31mx\u001b[39m \u001b[34mdplyr\u001b[39m::\u001b[32mlast()\u001b[39m      masks \u001b[34mdata.table\u001b[39m::last()\n",
      "\u001b[31mx\u001b[39m \u001b[34mpurrr\u001b[39m::\u001b[32mtranspose()\u001b[39m masks \u001b[34mdata.table\u001b[39m::transpose()\n",
      "\n",
      "qs v0.23.6.\n",
      "\n"
     ]
    }
   ],
   "metadata": {}
  },
  {
   "cell_type": "code",
   "execution_count": 2,
   "source": [
    "## indexing \n",
    "# Lineage\n",
    "epi.ind <- which(meta_sub$Lineage == \"Epithelial_cells\")\n",
    "mes.ind <- which(meta_sub$Lineage == \"Stromal_cells\")\n",
    "hem.ind <- which(meta_sub$Lineage == \"Immune_cells\")\n",
    "\n",
    "# LQ cell type labels\n",
    "tcell.ind.LQ <- which( meta_sub$hpca == \"T_cells\" )\n",
    "bcell.ind.LQ <- which( meta_sub$hpca == \"B_cell\" )\n",
    "macro.ind.LQ <- which( meta_sub$hpca == \"Macrophage\" | meta_sub$hpca == \"Monocyte\")\n",
    "fibro.ind.LQ <- which( meta_sub$hpca == \"Fibroblasts\")\n",
    "\n",
    "# LQ cell type labels\n",
    "tcell.ind.HQ <- which( meta_sub$Celltype == \"T cells\" )\n",
    "bcell.ind.HQ <- which( meta_sub$Celltype == \"B cells\" )\n",
    "macro.ind.HQ <- which( meta_sub$Celltype == \"Macrophages\")\n",
    "fibro.ind.HQ <- which( meta_sub$Celltype == \"Fibroblasts\")\n",
    "\n",
    "# combined cell type labels\n",
    "tcell.ind <- c(tcell.ind.LQ, tcell.ind.HQ)\n",
    "bcell.ind <- c(bcell.ind.LQ, bcell.ind.HQ)\n",
    "macro.ind <- c(macro.ind.LQ, macro.ind.HQ)\n",
    "fibro.ind <- c(fibro.ind.LQ, fibro.ind.HQ)\n",
    "\n",
    "## setting cut-offs\n",
    "## JF's cut-off for FELINE_C1: > 1500 UMI. 500 - 7000 genes \n",
    "nCount_RNA_cutoff <- 1500\n",
    "new.nCount_RNA_cutoff <- 450\n",
    "\n",
    "all.retained <- length(which(meta_sub$nCount_RNA > nCount_RNA_cutoff)) / length(meta_sub$nCount_RNA )\n",
    "epi.retained <- length(which(meta_sub$nCount_RNA[epi.ind] > nCount_RNA_cutoff)) / length(meta_sub$nCount_RNA[epi.ind] )\n",
    "mes.retained <- length(which(meta_sub$nCount_RNA[mes.ind] > nCount_RNA_cutoff)) / length(meta_sub$nCount_RNA[mes.ind] )\n",
    "hem.retained <- length(which(meta_sub$nCount_RNA[hem.ind] > nCount_RNA_cutoff)) / length(meta_sub$nCount_RNA[hem.ind] )\n",
    "\n",
    "tcell.retained <- length(which(meta_sub$nCount_RNA[tcell.ind] > nCount_RNA_cutoff)) / length(meta_sub$nCount_RNA[tcell.ind] )\n",
    "macro.retained <- length(which(meta_sub$nCount_RNA[macro.ind] > nCount_RNA_cutoff)) / length(meta_sub$nCount_RNA[macro.ind] )\n",
    "fibro.retained <- length(which(meta_sub$nCount_RNA[fibro.ind] > nCount_RNA_cutoff)) / length(meta_sub$nCount_RNA[fibro.ind] )\n",
    "bcell.retained <- length(which(meta_sub$nCount_RNA[bcell.ind] > nCount_RNA_cutoff)) / length(meta_sub$nCount_RNA[bcell.ind] )\n",
    "\n",
    "\n",
    "## Plot number of reads and genes by Cell type. Epithelial cells are used as a reference \n",
    "\n",
    "title.size <- 1.4\n",
    "lab.size <- 1.0\n",
    "sub.size <- 1.4\n",
    "\n",
    "pdf('Figures/Fig.2.pdf', width = 14, height = 6)\n",
    "par(mfrow=c(2,4), mar=c(6,5,5,1))\n",
    "\n",
    "\n",
    "v <- list(epi.ind, mes.ind)\n",
    "n <- list(epi.retained, mes.retained)\n",
    "lapply( , FUN(v, n) {     \n",
    "plot(main = \"Epithelial cells: total reads (log10)\", density(log10(meta_sub$nCount_RNA[epi.ind])), cex.main = title.size, cex.lab = lab.size, cex.sub= sub.size); abline(v=log10(nCount_RNA_cutoff), lty=2, col=\"darkred\")\n",
    "mtext(line= -17.3, adj=0.5, cex=1, paste('Percent cells retained:', round(100*epi.retained),'%' ))  # subtitle\n",
    "mtext(line= 0.7, adj=0.5, cex=0.8, paste('Average reads per cell:', round(mean(meta_sub$nCount_RNA[epi.ind])) ),)  # subtitle\n",
    "},var2=n)\n",
    "\n",
    "\n",
    "plot(main = \"All cells: total reads (log10)\", density(log10(meta_sub$nCount_RNA)), cex.main = title.size, cex.lab = lab.size, cex.sub= sub.size); abline(v=log10(nCount_RNA_cutoff), lty=2, col=\"darkred\")\n",
    "mtext(line= -17.3, adj=0.5, cex=1, paste('Percent cells retained:', round(100*all.retained),'%' ))  # subtitle\n",
    "mtext(line= 0.7, adj=0.5, cex=0.8, paste('Average reads per cell:', round(mean(meta_sub$nCount_RNA)) ),)  # subtitle\n",
    "\n",
    "## Lineage plots\n",
    "plot(main = \"Epithelial cells: total reads (log10)\", density(log10(meta_sub$nCount_RNA[epi.ind])), cex.main = title.size, cex.lab = lab.size, cex.sub= sub.size); abline(v=log10(nCount_RNA_cutoff), lty=2, col=\"darkred\")\n",
    "mtext(line= -17.3, adj=0.5, cex=1, paste('Percent cells retained:', round(100*epi.retained),'%' ))  # subtitle\n",
    "mtext(line= 0.7, adj=0.5, cex=0.8, paste('Average reads per cell:', round(mean(meta_sub$nCount_RNA[epi.ind])) ),)  # subtitle\n",
    "\n",
    "plot(main = \"Stromal cells: total reads (log10)\", density(log10(meta_sub$nCount_RNA[mes.ind])), cex.main = title.size, cex.lab = lab.size, cex.sub= sub.size); abline(v=log10(nCount_RNA_cutoff), lty=2, col=\"darkred\")\n",
    "mtext(line= -17.3, adj=0.5, cex=1, paste('Percent cells retained:', round(100*mes.retained),'%' ))  # subtitle\n",
    "mtext(line= 0.7, adj=0.5, cex=0.8, paste('Average reads per cell:', round(mean(meta_sub$nCount_RNA[mes.ind])) ),)  # subtitle\n",
    "\n",
    "plot(main = \"Immune cells: total reads (log10)\", density(log10(meta_sub$nCount_RNA[hem.ind])), cex.main = title.size, cex.lab = lab.size, cex.sub= sub.size); abline(v=log10(nCount_RNA_cutoff), lty=2, col=\"darkred\")\n",
    "mtext(line= -17.3, adj=0.5, cex=1, paste('Percent cells retained:', round(100*hem.retained),'%' ))  # subtitle\n",
    "mtext(line= 0.7, adj=0.5, cex=0.8, paste('Average reads per cell:', round(mean(meta_sub$nCount_RNA[hem.ind])) ),)  # subtitle\n",
    "\n",
    "## Cell type plots\n",
    "plot(main = \"Fibroblasts: total reads (log10)\", density(log10(meta_sub$nCount_RNA[fibro.ind])), cex.main = title.size, cex.lab = lab.size, cex.sub= sub.size); abline(v=log10(nCount_RNA_cutoff), lty=2, col=\"darkred\")\n",
    "mtext(line= -17.3, adj=0.5, cex=1, paste('Percent cells retained:', round(100*fibro.retained ),'%' ))  # subtitle\n",
    "mtext(line= 0.7, adj=0.5, cex=0.8, paste('Average reads per cell:', round(mean(meta_sub$nCount_RNA[fibro.ind])) ),)  # subtitle\n",
    "\n",
    "plot(main = \"B-cells: total reads (log10)\", density(log10(meta_sub$nCount_RNA[bcell.ind])), cex.main = title.size, cex.lab = lab.size, cex.sub= sub.size); abline(v=log10(nCount_RNA_cutoff), lty=2, col=\"darkred\")\n",
    "mtext(line= -17.3, adj=0.5, cex=1, paste('Percent cells retained:', round(100*bcell.retained ),'%' ))  # subtitle\n",
    "mtext(line= 0.7, adj=0.5, cex=0.8, paste('Average reads per cell:', round(mean(meta_sub$nCount_RNA[bcell.ind])) ),)  # subtitle\n",
    "\n",
    "plot(main = \"T-cells: total reads (log10)\", density(log10(meta_sub$nCount_RNA[tcell.ind])), cex.main = title.size, cex.lab = lab.size, cex.sub= sub.size); abline(v=log10(nCount_RNA_cutoff), lty=2, col=\"darkred\")\n",
    "mtext(line= -17.3, adj=0.5, cex=1, paste('Percent cells retained:', round(100*tcell.retained ),'%' ))  # subtitle\n",
    "mtext(line= 0.7, adj=0.5, cex=0.8, paste('Average reads per cell:', round(mean(meta_sub$nCount_RNA[tcell.ind])) ),)  # subtitle\n",
    "\n",
    "plot(main = \"Macrophages/Monocytes: total reads (log10)\", density(log10(meta_sub$nCount_RNA[macro.ind])), cex.main = title.size, cex.lab = lab.size, cex.sub= sub.size); abline(v=log10(nCount_RNA_cutoff), lty=2, col=\"darkred\")\n",
    "mtext(line= -17.3, adj=0.5, cex=1, paste('Percent cells retained:', round(100*macro.retained ),'%' ),)  # subtitle\n",
    "mtext(line= 0.7, adj=0.5, cex=0.8, paste('Average reads per cell:', round(mean(meta_sub$nCount_RNA[macro.ind])) ),)  # subtitle\n",
    "\n",
    "\n",
    "\n",
    "\n",
    "dev.off()\n",
    "options(repr.plot.width=14, repr.plot.height=6)\n",
    "\n"
   ],
   "outputs": [
    {
     "output_type": "display_data",
     "data": {
      "text/plain": [
       "pdf \n",
       "  2 "
      ],
      "text/markdown": [
       "**pdf:** 2"
      ],
      "text/latex": [
       "\\textbf{pdf:} 2"
      ],
      "text/html": [
       "<strong>pdf:</strong> 2"
      ]
     },
     "metadata": {}
    }
   ],
   "metadata": {}
  },
  {
   "cell_type": "code",
   "execution_count": 3,
   "source": [
    "options(warn=-1) # warnings off\n",
    "\n",
    "# Figure 3\n",
    "setwd('/Users/ibishara/Desktop/FELINE_C1/')\n",
    "\n",
    "# packages\n",
    "library(data.table)\n",
    "library(ggridges)\n",
    "library(ggpubr)\n",
    "library(stringr)\n",
    "\n",
    "# data\n",
    "all.perf <- list.files(path = \"/Users/ibishara/Desktop/FELINE_C1/\", pattern = \"SCN_Performance*\", recursive = FALSE)  # create a list of raw count tables from all batches\n",
    "perf.list.SCN <- lapply( all.perf, FUN = function(x) {fread(x, sep='auto')})\n",
    "perf.SCN <- as.data.frame(do.call(rbind, perf.list.SCN))  #join list of tables \n",
    "\n",
    "all.perf <- list.files(path = \"/Users/ibishara/Desktop/FELINE_C1/\", pattern = \"SR_Performance*\", recursive = FALSE)  # create a list of raw count tables from all batches\n",
    "perf.list.SR <- lapply( all.perf, FUN = function(x) {fread(x, sep='auto')})\n",
    "perf.SR <- as.data.frame(do.call(rbind, perf.list.SR))  #join list of tables \n",
    "\n",
    "### deployment script\n",
    "# SCN_Performance_summary_non_binary_Lineage <- fread(\"/Users/ibishara/Desktop/FELINE_C1/SCN_Performance_summary_non-binary_Lineage.txt\", sep='auto')\n",
    "# SCN_Performance_summary_floor_Lineage <- fread(\"/Users/ibishara/Desktop/FELINE_C1/SCN_Performance_summary_floor_Lineage.txt\", sep='auto')\n",
    "\n",
    "###\n",
    "\n",
    "# distribution clean-up\n",
    "# table_type = reads, genes\n",
    "# method = poisson, non-binary, binary\n",
    "\n",
    "dist.clean <- function(table_type, method){\n",
    "    dist <- fread(paste('SCN_', table_type, '_distribution_', method, '.txt' , sep=''), sep = '\\t') # read distribution table | same for SCN and SR\n",
    "\n",
    "    # data clean-up\n",
    "    dist$V1 <- NULL\n",
    "    dist <- t(dist)\n",
    "    colnames(dist) <- dist[1,]\n",
    "    dist <- dist[-1,]\n",
    "    dist <- melt(dist)\n",
    "    dist <- dist[,-1]\n",
    "    dist$value <- as.numeric(dist$value)\n",
    "    return(dist)\n",
    "}\n",
    "\n",
    "dist.reads_poisson <- dist.clean('reads', 'poisson')\n",
    "dist.genes_poisson <- dist.clean('genes', 'poisson')\n",
    "dist.reads_nonbin <- dist.clean('reads', 'non-binary')\n",
    "dist.genes_nonbin <- dist.clean('genes', 'non-binary')\n",
    "dist.reads_binary <- dist.clean('reads', 'binary')\n",
    "dist.genes_binary <- dist.clean('genes', 'binary')\n",
    "\n",
    "# Calculates mean and median for plot annotations \n",
    "summ <- function(x) c(Mean = mean(x), median = median(x))\n",
    "summ.clean <- function(mat) {\n",
    "    stats <- aggregate(value ~  Var2, mat, summ, simplify = TRUE)\n",
    "    stats <- cbind(stats[1], round(stats[[2]]))\n",
    "    return(stats)\n",
    "}\n",
    "\n",
    "stat.reads_poisson <- summ.clean(dist.reads_poisson)\n",
    "stat.genes_poisson <- summ.clean(dist.genes_poisson)\n",
    "stat.reads_binary <- summ.clean(dist.reads_binary)\n",
    "stat.genes_binary <- summ.clean(dist.genes_binary)\n",
    "stat.reads_nonbin <- summ.clean(dist.reads_nonbin)\n",
    "stat.genes_nonbin <- summ.clean(dist.genes_nonbin)\n"
   ],
   "outputs": [],
   "metadata": {}
  },
  {
   "cell_type": "code",
   "execution_count": 249,
   "source": [
    "\n",
    "\n",
    "# train = 'SCN', 'SR'\n",
    "# method = 'poisson', 'binary', 'non-binary'\n",
    "# function plots the AUC at different thresholds of a 'train' algorithm and transformed by 'method'\n",
    "AUCplot <- function(train, method) {\n",
    "    if (train == 'SCN'){ \n",
    "        train = perf.SCN\n",
    "        train.name <- 'SCN trained'\n",
    "\n",
    "    } else if(train == 'SR') {\n",
    "        train = perf.SR\n",
    "        train.name <- 'SingleR trained'\n",
    "        }\n",
    "\n",
    "    # AUC plot    \n",
    "    AUC_pROC <- as.numeric(train$AUC_pROC)\n",
    "    data <- train[train$method == method,]\n",
    "    data <- data[order(data$AUC_pROC),]\n",
    "\n",
    "    main.levels <- levels(threshold)[12:length(levels(threshold))]  #c('0.6','0.7','0.8','0.9','1.0','1.5','2.0','3.0','4.0','untransformed')\n",
    "    inset.levels <- levels(threshold)[1:11] #c('0.0','0.05','0.1','0.15','0.2','0.25','0.3','0.35','0.4','0.45','0.5')\n",
    "\n",
    "    plot <- ggplot(data, aes(threshold, AUC_pROC )) + \n",
    "                theme_classic() + \n",
    "                theme(plot.title = element_text(vjust = 2, hjust = 0.5)) # center plot title\n",
    "\n",
    "    main.plot <- plot +       \n",
    "                geom_point(aes(color = as.factor(class)), size = 2, alpha = 0.8) + \n",
    "                scale_x_discrete(breaks=main.levels, limits=main.levels) +\n",
    "                ylim(min(data$AUC_pROC[22:42]*0.9), max(data$AUC_pROC[22:42])) +\n",
    "                xlab(\"threshold (x1000)\") + ylab(\"AUROCC\") + labs(color='Class')  +\n",
    "                ggtitle(paste(train.name, \"transformed\", method, sep =' - ')) \n",
    "\n",
    "\n",
    "    inset.plot <- plot + \n",
    "                geom_point(aes(color = as.factor(class)), size = 1.5, alpha = 0.8) + \n",
    "                scale_x_discrete(guide=guide_axis(n.dodge=2), breaks=inset.levels, limits=inset.levels) +\n",
    "                scale_y_continuous(limits=c(min(data$AUC_pROC[1:22]*0.9), max(data$AUC_pROC[1:22])*1.1), breaks = c(0.5, 0.7, 0.9), labels = c('0.5', '0.7', '0.9')) + \n",
    "                theme(legend.position = \"none\", axis.title.x = element_blank(), axis.title.y = element_blank(), axis.line = element_line( size = 0.3))\n",
    "                \n",
    "\n",
    "    ggdraw() +\n",
    "    draw_plot(main.plot ) +\n",
    "    draw_plot(inset.plot, x = 0.5, y = .15, width = .37, height = .4)\n",
    "}\n",
    "\n",
    "\n",
    "# summary plots\n",
    "plot1 <- AUCplot('SR', 'poisson')\n",
    "plot2 <- AUCplot('SCN', 'poisson')\n",
    "\n",
    "plot3 <- AUCplot('SCN', 'non-binary')\n",
    "plot4 <- AUCplot('SR', 'non-binary')\n",
    "\n",
    "plot5 <- AUCplot('SCN', 'binary')\n",
    "plot6 <- AUCplot('SR', 'binary')\n",
    "\n",
    "\n",
    "\n",
    "pdf('Figures/Fig.3a.pdf', width = 8, height = 6)\n",
    "plot1\n",
    "dev.off()\n",
    "\n",
    "pdf('Figures/Fig.3b.pdf', width = 8, height = 6)\n",
    "plot2\n",
    "dev.off()\n",
    "\n",
    "pdf('Figures/Supp.1a.pdf', width = 8, height = 6)\n",
    "plot3\n",
    "dev.off()\n",
    "\n",
    "pdf('Figures/Supp.1b.pdf', width = 8, height = 6)\n",
    "plot4\n",
    "dev.off()\n",
    "\n",
    "pdf('Figures/Supp.2a.pdf', width = 8, height = 6)\n",
    "plot5\n",
    "dev.off()\n",
    "\n",
    "pdf('Figures/Supp.2b.pdf', width = 8, height = 6)\n",
    "plot6\n",
    "dev.off()\n",
    "\n",
    "options(repr.plot.width=8, repr.plot.height=6)\n"
   ],
   "outputs": [
    {
     "output_type": "display_data",
     "data": {
      "text/plain": [
       "pdf \n",
       "  2 "
      ],
      "text/markdown": [
       "**pdf:** 2"
      ],
      "text/latex": [
       "\\textbf{pdf:} 2"
      ],
      "text/html": [
       "<strong>pdf:</strong> 2"
      ]
     },
     "metadata": {}
    },
    {
     "output_type": "display_data",
     "data": {
      "text/plain": [
       "pdf \n",
       "  2 "
      ],
      "text/markdown": [
       "**pdf:** 2"
      ],
      "text/latex": [
       "\\textbf{pdf:} 2"
      ],
      "text/html": [
       "<strong>pdf:</strong> 2"
      ]
     },
     "metadata": {}
    },
    {
     "output_type": "display_data",
     "data": {
      "text/plain": [
       "pdf \n",
       "  2 "
      ],
      "text/markdown": [
       "**pdf:** 2"
      ],
      "text/latex": [
       "\\textbf{pdf:} 2"
      ],
      "text/html": [
       "<strong>pdf:</strong> 2"
      ]
     },
     "metadata": {}
    },
    {
     "output_type": "display_data",
     "data": {
      "text/plain": [
       "pdf \n",
       "  2 "
      ],
      "text/markdown": [
       "**pdf:** 2"
      ],
      "text/latex": [
       "\\textbf{pdf:} 2"
      ],
      "text/html": [
       "<strong>pdf:</strong> 2"
      ]
     },
     "metadata": {}
    },
    {
     "output_type": "display_data",
     "data": {
      "text/plain": [
       "pdf \n",
       "  2 "
      ],
      "text/markdown": [
       "**pdf:** 2"
      ],
      "text/latex": [
       "\\textbf{pdf:} 2"
      ],
      "text/html": [
       "<strong>pdf:</strong> 2"
      ]
     },
     "metadata": {}
    },
    {
     "output_type": "display_data",
     "data": {
      "text/plain": [
       "pdf \n",
       "  2 "
      ],
      "text/markdown": [
       "**pdf:** 2"
      ],
      "text/latex": [
       "\\textbf{pdf:} 2"
      ],
      "text/html": [
       "<strong>pdf:</strong> 2"
      ]
     },
     "metadata": {}
    }
   ],
   "metadata": {}
  },
  {
   "cell_type": "code",
   "execution_count": 228,
   "source": [
    "train = perf.SCN\n",
    "train.name <- 'SCN trained'\n",
    "method = 'poisson'\n",
    "threshold <- as.factor(train$threshold)\n",
    "AUC_pROC <- as.numeric(train$AUC_pROC)\n",
    "data <- train[train$method == method,]\n",
    "data <- data[order(data$AUC_pROC),]\n",
    "\n",
    "main.levels <- levels(threshold)[12:length(levels(threshold))]  #c('0.6','0.7','0.8','0.9','1.0','1.5','2.0','3.0','4.0','untransformed')\n",
    "inset.levels <- levels(threshold)[1:11] #c('0.0','0.05','0.1','0.15','0.2','0.25','0.3','0.35','0.4','0.45','0.5')\n",
    "\n",
    "plot <- ggplot(data, aes(threshold, AUC_pROC )) + \n",
    "            theme_classic() + \n",
    "            theme(plot.title = element_text(vjust = 2, hjust = 0.5)) # center plot title\n",
    "\n",
    "    main.plot <- plot +       \n",
    "                geom_point(aes(color = as.factor(class)), size = 2, alpha = 0.8) + \n",
    "                scale_x_discrete(guide=guide_axis(n.dodge=2), breaks=main.levels, limits=main.levels) +\n",
    "                ylim(min(data$AUC_pROC[22:42]), 1.0) +\n",
    "                xlab(\"threshold (x1000)\") + ylab(\"AUROCC\") + labs(color='Class')  +\n",
    "                ggtitle(paste(train.name, \"transformed\", method, sep =' - ')) \n",
    "\n",
    "\n",
    "    inset.plot <- plot + \n",
    "                geom_point(aes(color = as.factor(class)), size = 1.5, alpha = 0.8) + \n",
    "                scale_x_discrete(guide=guide_axis(n.dodge=2), breaks=inset.levels, limits=inset.levels) +\n",
    "                ylim(min(data$AUC_pROC[2:22]), max(AUC_pROC[2:22]) )+\n",
    "                theme(legend.position = \"none\", axis.title.x = element_blank(), axis.title.y = element_blank(), axis.line = element_line( size = 0.3))\n",
    "                \n",
    "\n",
    " ggdraw() +\n",
    "  draw_plot(main.plot ) +\n",
    "  draw_plot(inset.plot, x = 0.5, y = .15, width = .37, height = .4)\n",
    "\n",
    "  options(repr.plot.width=8, repr.plot.height=6)\n"
   ],
   "outputs": [
    {
     "output_type": "display_data",
     "data": {
      "text/plain": [
       "plot without title"
      ],
      "image/png": "[encoded data removed]"
     },
     "metadata": {
      "image/png": {
       "width": 480,
       "height": 360
      }
     }
    }
   ],
   "metadata": {}
  },
  {
   "cell_type": "code",
   "execution_count": 223,
   "source": [
    "\n",
    "\n",
    "data <- data[order(data$AUC_pROC),]\n",
    "data[22:42,]\n"
   ],
   "outputs": [
    {
     "output_type": "display_data",
     "data": {
      "text/plain": [
       "    V1 class    source threshold     method  AUC_SCN   AUC_pROC  VnCells\n",
       "116 11 Lineage  reads  0.5           poisson 0.9025617 0.8113975 400    \n",
       "96  12 Celltype reads  0.6           poisson 0.8195589 0.8234373 400    \n",
       "97  13 Celltype reads  0.7           poisson 0.8498593 0.8319030 400    \n",
       "117 12 Lineage  reads  0.6           poisson 0.9326372 0.8372414 400    \n",
       "98  14 Celltype reads  0.8           poisson 0.8747157 0.8573637 400    \n",
       "118 13 Lineage  reads  0.7           poisson 0.9506659 0.8675980 400    \n",
       "99  15 Celltype reads  0.9           poisson 0.9006060 0.8869137 400    \n",
       "119 14 Lineage  reads  0.8           poisson 0.9592918 0.8909120 400    \n",
       "100 16 Celltype reads  1.0           poisson 0.9202812 0.8929133 400    \n",
       "121 16 Lineage  reads  1.0           poisson 0.9715095 0.9043603 400    \n",
       "120 15 Lineage  reads  0.9           poisson 0.9654648 0.9174450 400    \n",
       "101 17 Celltype reads  1.5           poisson 0.9601109 0.9353752 400    \n",
       "122 17 Lineage  reads  1.5           poisson 0.9872345 0.9388290 400    \n",
       "102 18 Celltype reads  2.0           poisson 0.9785620 0.9512129 400    \n",
       "123 18 Lineage  reads  2.0           poisson 0.9954878 0.9758577 400    \n",
       "103 19 Celltype reads  3.0           poisson 0.9858942 0.9770074 400    \n",
       "104 20 Celltype reads  4.0           poisson 0.9933759 0.9820223 400    \n",
       "124 19 Lineage  reads  3.0           poisson 0.9980965 0.9854688 400    \n",
       "105 21 Celltype reads  untransformed poisson 0.9981696 0.9934796 400    \n",
       "126 21 Lineage  reads  untransformed poisson 0.9996646 0.9941417 400    \n",
       "125 20 Lineage  reads  4.0           poisson 0.9992633 0.9959547 400    \n",
       "    nTopGenes Avg.Reads Avg.Genes\n",
       "116 100        500       247     \n",
       "96  100        593       294     \n",
       "97  100        699       338     \n",
       "117 100        593       291     \n",
       "98  100        801       380     \n",
       "118 100        704       335     \n",
       "99  100        899       421     \n",
       "119 100        791       377     \n",
       "100 100       1004       462     \n",
       "121 100        983       460     \n",
       "120 100        911       419     \n",
       "101 100       1502       645     \n",
       "122 100       1492       644     \n",
       "102 100       1995       805     \n",
       "123 100       2010       804     \n",
       "103 100       3007      1061     \n",
       "104 100       3999      1256     \n",
       "124 100       3009      1070     \n",
       "105 100       4182      2066     \n",
       "126 100       4428      2164     \n",
       "125 100       3979      1274     "
      ],
      "text/markdown": [
       "\n",
       "A data.frame: 21 × 11\n",
       "\n",
       "| <!--/--> | V1 &lt;int&gt; | class &lt;chr&gt; | source &lt;chr&gt; | threshold &lt;chr&gt; | method &lt;chr&gt; | AUC_SCN &lt;dbl&gt; | AUC_pROC &lt;dbl&gt; | VnCells &lt;int&gt; | nTopGenes &lt;int&gt; | Avg.Reads &lt;int&gt; | Avg.Genes &lt;int&gt; |\n",
       "|---|---|---|---|---|---|---|---|---|---|---|---|\n",
       "| 116 | 11 | Lineage  | reads | 0.5           | poisson | 0.9025617 | 0.8113975 | 400 | 100 |  500 |  247 |\n",
       "| 96 | 12 | Celltype | reads | 0.6           | poisson | 0.8195589 | 0.8234373 | 400 | 100 |  593 |  294 |\n",
       "| 97 | 13 | Celltype | reads | 0.7           | poisson | 0.8498593 | 0.8319030 | 400 | 100 |  699 |  338 |\n",
       "| 117 | 12 | Lineage  | reads | 0.6           | poisson | 0.9326372 | 0.8372414 | 400 | 100 |  593 |  291 |\n",
       "| 98 | 14 | Celltype | reads | 0.8           | poisson | 0.8747157 | 0.8573637 | 400 | 100 |  801 |  380 |\n",
       "| 118 | 13 | Lineage  | reads | 0.7           | poisson | 0.9506659 | 0.8675980 | 400 | 100 |  704 |  335 |\n",
       "| 99 | 15 | Celltype | reads | 0.9           | poisson | 0.9006060 | 0.8869137 | 400 | 100 |  899 |  421 |\n",
       "| 119 | 14 | Lineage  | reads | 0.8           | poisson | 0.9592918 | 0.8909120 | 400 | 100 |  791 |  377 |\n",
       "| 100 | 16 | Celltype | reads | 1.0           | poisson | 0.9202812 | 0.8929133 | 400 | 100 | 1004 |  462 |\n",
       "| 121 | 16 | Lineage  | reads | 1.0           | poisson | 0.9715095 | 0.9043603 | 400 | 100 |  983 |  460 |\n",
       "| 120 | 15 | Lineage  | reads | 0.9           | poisson | 0.9654648 | 0.9174450 | 400 | 100 |  911 |  419 |\n",
       "| 101 | 17 | Celltype | reads | 1.5           | poisson | 0.9601109 | 0.9353752 | 400 | 100 | 1502 |  645 |\n",
       "| 122 | 17 | Lineage  | reads | 1.5           | poisson | 0.9872345 | 0.9388290 | 400 | 100 | 1492 |  644 |\n",
       "| 102 | 18 | Celltype | reads | 2.0           | poisson | 0.9785620 | 0.9512129 | 400 | 100 | 1995 |  805 |\n",
       "| 123 | 18 | Lineage  | reads | 2.0           | poisson | 0.9954878 | 0.9758577 | 400 | 100 | 2010 |  804 |\n",
       "| 103 | 19 | Celltype | reads | 3.0           | poisson | 0.9858942 | 0.9770074 | 400 | 100 | 3007 | 1061 |\n",
       "| 104 | 20 | Celltype | reads | 4.0           | poisson | 0.9933759 | 0.9820223 | 400 | 100 | 3999 | 1256 |\n",
       "| 124 | 19 | Lineage  | reads | 3.0           | poisson | 0.9980965 | 0.9854688 | 400 | 100 | 3009 | 1070 |\n",
       "| 105 | 21 | Celltype | reads | untransformed | poisson | 0.9981696 | 0.9934796 | 400 | 100 | 4182 | 2066 |\n",
       "| 126 | 21 | Lineage  | reads | untransformed | poisson | 0.9996646 | 0.9941417 | 400 | 100 | 4428 | 2164 |\n",
       "| 125 | 20 | Lineage  | reads | 4.0           | poisson | 0.9992633 | 0.9959547 | 400 | 100 | 3979 | 1274 |\n",
       "\n"
      ],
      "text/latex": [
       "A data.frame: 21 × 11\n",
       "\\begin{tabular}{r|lllllllllll}\n",
       "  & V1 & class & source & threshold & method & AUC\\_SCN & AUC\\_pROC & VnCells & nTopGenes & Avg.Reads & Avg.Genes\\\\\n",
       "  & <int> & <chr> & <chr> & <chr> & <chr> & <dbl> & <dbl> & <int> & <int> & <int> & <int>\\\\\n",
       "\\hline\n",
       "\t116 & 11 & Lineage  & reads & 0.5           & poisson & 0.9025617 & 0.8113975 & 400 & 100 &  500 &  247\\\\\n",
       "\t96 & 12 & Celltype & reads & 0.6           & poisson & 0.8195589 & 0.8234373 & 400 & 100 &  593 &  294\\\\\n",
       "\t97 & 13 & Celltype & reads & 0.7           & poisson & 0.8498593 & 0.8319030 & 400 & 100 &  699 &  338\\\\\n",
       "\t117 & 12 & Lineage  & reads & 0.6           & poisson & 0.9326372 & 0.8372414 & 400 & 100 &  593 &  291\\\\\n",
       "\t98 & 14 & Celltype & reads & 0.8           & poisson & 0.8747157 & 0.8573637 & 400 & 100 &  801 &  380\\\\\n",
       "\t118 & 13 & Lineage  & reads & 0.7           & poisson & 0.9506659 & 0.8675980 & 400 & 100 &  704 &  335\\\\\n",
       "\t99 & 15 & Celltype & reads & 0.9           & poisson & 0.9006060 & 0.8869137 & 400 & 100 &  899 &  421\\\\\n",
       "\t119 & 14 & Lineage  & reads & 0.8           & poisson & 0.9592918 & 0.8909120 & 400 & 100 &  791 &  377\\\\\n",
       "\t100 & 16 & Celltype & reads & 1.0           & poisson & 0.9202812 & 0.8929133 & 400 & 100 & 1004 &  462\\\\\n",
       "\t121 & 16 & Lineage  & reads & 1.0           & poisson & 0.9715095 & 0.9043603 & 400 & 100 &  983 &  460\\\\\n",
       "\t120 & 15 & Lineage  & reads & 0.9           & poisson & 0.9654648 & 0.9174450 & 400 & 100 &  911 &  419\\\\\n",
       "\t101 & 17 & Celltype & reads & 1.5           & poisson & 0.9601109 & 0.9353752 & 400 & 100 & 1502 &  645\\\\\n",
       "\t122 & 17 & Lineage  & reads & 1.5           & poisson & 0.9872345 & 0.9388290 & 400 & 100 & 1492 &  644\\\\\n",
       "\t102 & 18 & Celltype & reads & 2.0           & poisson & 0.9785620 & 0.9512129 & 400 & 100 & 1995 &  805\\\\\n",
       "\t123 & 18 & Lineage  & reads & 2.0           & poisson & 0.9954878 & 0.9758577 & 400 & 100 & 2010 &  804\\\\\n",
       "\t103 & 19 & Celltype & reads & 3.0           & poisson & 0.9858942 & 0.9770074 & 400 & 100 & 3007 & 1061\\\\\n",
       "\t104 & 20 & Celltype & reads & 4.0           & poisson & 0.9933759 & 0.9820223 & 400 & 100 & 3999 & 1256\\\\\n",
       "\t124 & 19 & Lineage  & reads & 3.0           & poisson & 0.9980965 & 0.9854688 & 400 & 100 & 3009 & 1070\\\\\n",
       "\t105 & 21 & Celltype & reads & untransformed & poisson & 0.9981696 & 0.9934796 & 400 & 100 & 4182 & 2066\\\\\n",
       "\t126 & 21 & Lineage  & reads & untransformed & poisson & 0.9996646 & 0.9941417 & 400 & 100 & 4428 & 2164\\\\\n",
       "\t125 & 20 & Lineage  & reads & 4.0           & poisson & 0.9992633 & 0.9959547 & 400 & 100 & 3979 & 1274\\\\\n",
       "\\end{tabular}\n"
      ],
      "text/html": [
       "<table class=\"dataframe\">\n",
       "<caption>A data.frame: 21 × 11</caption>\n",
       "<thead>\n",
       "\t<tr><th></th><th scope=col>V1</th><th scope=col>class</th><th scope=col>source</th><th scope=col>threshold</th><th scope=col>method</th><th scope=col>AUC_SCN</th><th scope=col>AUC_pROC</th><th scope=col>VnCells</th><th scope=col>nTopGenes</th><th scope=col>Avg.Reads</th><th scope=col>Avg.Genes</th></tr>\n",
       "\t<tr><th></th><th scope=col>&lt;int&gt;</th><th scope=col>&lt;chr&gt;</th><th scope=col>&lt;chr&gt;</th><th scope=col>&lt;chr&gt;</th><th scope=col>&lt;chr&gt;</th><th scope=col>&lt;dbl&gt;</th><th scope=col>&lt;dbl&gt;</th><th scope=col>&lt;int&gt;</th><th scope=col>&lt;int&gt;</th><th scope=col>&lt;int&gt;</th><th scope=col>&lt;int&gt;</th></tr>\n",
       "</thead>\n",
       "<tbody>\n",
       "\t<tr><th scope=row>116</th><td>11</td><td>Lineage </td><td>reads</td><td>0.5          </td><td>poisson</td><td>0.9025617</td><td>0.8113975</td><td>400</td><td>100</td><td> 500</td><td> 247</td></tr>\n",
       "\t<tr><th scope=row>96</th><td>12</td><td>Celltype</td><td>reads</td><td>0.6          </td><td>poisson</td><td>0.8195589</td><td>0.8234373</td><td>400</td><td>100</td><td> 593</td><td> 294</td></tr>\n",
       "\t<tr><th scope=row>97</th><td>13</td><td>Celltype</td><td>reads</td><td>0.7          </td><td>poisson</td><td>0.8498593</td><td>0.8319030</td><td>400</td><td>100</td><td> 699</td><td> 338</td></tr>\n",
       "\t<tr><th scope=row>117</th><td>12</td><td>Lineage </td><td>reads</td><td>0.6          </td><td>poisson</td><td>0.9326372</td><td>0.8372414</td><td>400</td><td>100</td><td> 593</td><td> 291</td></tr>\n",
       "\t<tr><th scope=row>98</th><td>14</td><td>Celltype</td><td>reads</td><td>0.8          </td><td>poisson</td><td>0.8747157</td><td>0.8573637</td><td>400</td><td>100</td><td> 801</td><td> 380</td></tr>\n",
       "\t<tr><th scope=row>118</th><td>13</td><td>Lineage </td><td>reads</td><td>0.7          </td><td>poisson</td><td>0.9506659</td><td>0.8675980</td><td>400</td><td>100</td><td> 704</td><td> 335</td></tr>\n",
       "\t<tr><th scope=row>99</th><td>15</td><td>Celltype</td><td>reads</td><td>0.9          </td><td>poisson</td><td>0.9006060</td><td>0.8869137</td><td>400</td><td>100</td><td> 899</td><td> 421</td></tr>\n",
       "\t<tr><th scope=row>119</th><td>14</td><td>Lineage </td><td>reads</td><td>0.8          </td><td>poisson</td><td>0.9592918</td><td>0.8909120</td><td>400</td><td>100</td><td> 791</td><td> 377</td></tr>\n",
       "\t<tr><th scope=row>100</th><td>16</td><td>Celltype</td><td>reads</td><td>1.0          </td><td>poisson</td><td>0.9202812</td><td>0.8929133</td><td>400</td><td>100</td><td>1004</td><td> 462</td></tr>\n",
       "\t<tr><th scope=row>121</th><td>16</td><td>Lineage </td><td>reads</td><td>1.0          </td><td>poisson</td><td>0.9715095</td><td>0.9043603</td><td>400</td><td>100</td><td> 983</td><td> 460</td></tr>\n",
       "\t<tr><th scope=row>120</th><td>15</td><td>Lineage </td><td>reads</td><td>0.9          </td><td>poisson</td><td>0.9654648</td><td>0.9174450</td><td>400</td><td>100</td><td> 911</td><td> 419</td></tr>\n",
       "\t<tr><th scope=row>101</th><td>17</td><td>Celltype</td><td>reads</td><td>1.5          </td><td>poisson</td><td>0.9601109</td><td>0.9353752</td><td>400</td><td>100</td><td>1502</td><td> 645</td></tr>\n",
       "\t<tr><th scope=row>122</th><td>17</td><td>Lineage </td><td>reads</td><td>1.5          </td><td>poisson</td><td>0.9872345</td><td>0.9388290</td><td>400</td><td>100</td><td>1492</td><td> 644</td></tr>\n",
       "\t<tr><th scope=row>102</th><td>18</td><td>Celltype</td><td>reads</td><td>2.0          </td><td>poisson</td><td>0.9785620</td><td>0.9512129</td><td>400</td><td>100</td><td>1995</td><td> 805</td></tr>\n",
       "\t<tr><th scope=row>123</th><td>18</td><td>Lineage </td><td>reads</td><td>2.0          </td><td>poisson</td><td>0.9954878</td><td>0.9758577</td><td>400</td><td>100</td><td>2010</td><td> 804</td></tr>\n",
       "\t<tr><th scope=row>103</th><td>19</td><td>Celltype</td><td>reads</td><td>3.0          </td><td>poisson</td><td>0.9858942</td><td>0.9770074</td><td>400</td><td>100</td><td>3007</td><td>1061</td></tr>\n",
       "\t<tr><th scope=row>104</th><td>20</td><td>Celltype</td><td>reads</td><td>4.0          </td><td>poisson</td><td>0.9933759</td><td>0.9820223</td><td>400</td><td>100</td><td>3999</td><td>1256</td></tr>\n",
       "\t<tr><th scope=row>124</th><td>19</td><td>Lineage </td><td>reads</td><td>3.0          </td><td>poisson</td><td>0.9980965</td><td>0.9854688</td><td>400</td><td>100</td><td>3009</td><td>1070</td></tr>\n",
       "\t<tr><th scope=row>105</th><td>21</td><td>Celltype</td><td>reads</td><td>untransformed</td><td>poisson</td><td>0.9981696</td><td>0.9934796</td><td>400</td><td>100</td><td>4182</td><td>2066</td></tr>\n",
       "\t<tr><th scope=row>126</th><td>21</td><td>Lineage </td><td>reads</td><td>untransformed</td><td>poisson</td><td>0.9996646</td><td>0.9941417</td><td>400</td><td>100</td><td>4428</td><td>2164</td></tr>\n",
       "\t<tr><th scope=row>125</th><td>20</td><td>Lineage </td><td>reads</td><td>4.0          </td><td>poisson</td><td>0.9992633</td><td>0.9959547</td><td>400</td><td>100</td><td>3979</td><td>1274</td></tr>\n",
       "</tbody>\n",
       "</table>\n"
      ]
     },
     "metadata": {}
    }
   ],
   "metadata": {}
  },
  {
   "cell_type": "code",
   "execution_count": null,
   "source": [],
   "outputs": [],
   "metadata": {}
  },
  {
   "cell_type": "code",
   "execution_count": 5,
   "source": [
    "mean.v = -22\n",
    "median.v = -20\n",
    "mean.median.h = 22.5\n",
    "# show reads and genes distribution, mean and median \n",
    "statplot <- function(method){\n",
    "    if (method == 'binary'){\n",
    "        table_type <- 'genes'\n",
    "        dist.reads.data <- dist.reads_binary\n",
    "        dist.genes.data <- dist.genes_binary\n",
    "        stats.reads.data <- stat.reads_binary\n",
    "        stats.genes.data <- stat.genes_binary\n",
    "\n",
    "        } else if (method == 'poisson'){\n",
    "        table_type <- 'reads'\n",
    "        dist.reads.data <- dist.reads_poisson\n",
    "        dist.genes.data <- dist.genes_poisson\n",
    "        stats.reads.data <- stat.reads_poisson\n",
    "        stats.genes.data <- stat.genes_poisson\n",
    "\n",
    "\n",
    "        } else if (method == 'non-binary'){\n",
    "        table_type <- 'genes'\n",
    "        dist.reads.data <- dist.reads_nonbin\n",
    "        dist.genes.data <- dist.genes_nonbin\n",
    "        stats.reads.data <- stat.reads_nonbin\n",
    "        stats.genes.data <- stat.genes_nonbin\n",
    "        }\n",
    "    # reads distribution plot \n",
    "    plot1 <- ggplot(dist.reads.data, aes(Var2, value)) + \n",
    "                geom_boxplot() + \n",
    "                stat_summary(fun= mean, colour=\"darkred\", geom=\"point\", shape=18, size=2, show.legend=FALSE) + # mean figure\n",
    "                geom_text(data = stats.reads.data, aes(label = Mean, y =  10), vjust= mean.v, size = 3, colour=\"darkred\") +  # mean data\n",
    "                geom_text(data = stats.reads.data, aes(label = median, y =  10), vjust= median.v, size = 3, colour=\"black\") +  # median data \n",
    "                # geom_text(x=mean.median.h , y = mean.v, label=\"Mean\", colour=\"darkred\", size = 3, vjust = mean.v ) +  # mean label\n",
    "                # geom_text(x=mean.median.h , y = median.v, label=\"Median\", colour=\"black\", size = 3, vjust = median.v) +  # median label\n",
    "\n",
    "               # ggtitle(paste(\"Post-transformation nReads observed -\", method)) +\n",
    "                xlab(paste('number of', table_type, 'threshold (x1000)'))  + ylab(\"number of reads observed\") + \n",
    "                scale_x_discrete(guide=guide_axis(n.dodge=2)) +\n",
    "                theme_classic() +\n",
    "                theme(plot.title = element_text(vjust = 9, hjust = 0.5), # title centered & up to accomodate stats annotations\n",
    "                    axis.title=element_text(size= 9,face=\"bold\")) + # adjust axis label sizes\n",
    "                coord_cartesian(clip = \"off\")+\n",
    "            theme(plot.margin = unit(c(0,1.5,0.5,0.5), \"cm\"))\n",
    "\n",
    "    # genes distribution plot \n",
    "    plot2 <- ggplot(dist.genes.data, aes(as.factor(Var2), value)) + \n",
    "            geom_boxplot() + \n",
    "            stat_summary(fun= mean, colour=\"darkred\", geom=\"point\", shape=18, size=2, show.legend=FALSE) + # mean figure\n",
    "            geom_text(data = stats.genes.data, aes(label = Mean, y =  10), vjust= mean.v, size = 3, colour=\"darkred\") +  # mean data \n",
    "            geom_text(data = stats.genes.data, aes(label = median, y =  10), vjust= median.v, size = 3, colour=\"black\") +  # median data \n",
    "            # geom_text(x=mean.median.h , y = mean.v, label=\"Mean\", colour=\"darkred\", size = 3, vjust = mean.v ) +  # mean label\n",
    "            # geom_text(x=mean.median.h , y = median.v, label=\"Median\", colour=\"black\", size = 3, vjust = median.v) +  # median label\n",
    "          #  ggtitle(paste(\"Post-transformation nGenes observed -\", method)) +\n",
    "            xlab(paste('number of', table_type, 'threshold (x1000)')) + ylab(\"number of genes observed\") + \n",
    "            scale_x_discrete(guide=guide_axis(n.dodge=2)) +\n",
    "            theme_classic() +\n",
    "            theme(plot.title = element_text(vjust = 9, hjust = 0.5), # title centered & up to accomodate stats annotations\n",
    "                axis.title=element_text(size= 9,face=\"bold\") ) + \n",
    "            coord_cartesian(clip = \"off\") +\n",
    "            theme(plot.margin = unit(c(0,1.5,0.5,0.5), \"cm\"))\n",
    "\n",
    "    spacer <- NULL\n",
    "    ggarrange(grobs = spacer, plot1, spacer, plot2, ncol = 1, nrow = 4, heights=c(20, 100, 20, 100)) \n",
    "}\n",
    "plot1 <- statplot('poisson')\n",
    "plot2 <- statplot('non-binary')\n",
    "plot3 <- statplot('binary')\n",
    "\n",
    "pdf('Figures/Fig.3c.pdf', width = 9, height = 6)\n",
    "plot1\n",
    "dev.off()\n",
    "\n",
    "pdf('Figures/Supp.1c.pdf', width = 9, height = 6)\n",
    "plot2\n",
    "dev.off()\n",
    "\n",
    "pdf('Figures/Supp.2c.pdf', width = 9, height = 6)\n",
    "plot3\n",
    "dev.off()\n",
    "\n",
    "options(repr.plot.width=9, repr.plot.height=6)\n"
   ],
   "outputs": [
    {
     "output_type": "display_data",
     "data": {
      "text/plain": [
       "pdf \n",
       "  2 "
      ],
      "text/markdown": [
       "**pdf:** 2"
      ],
      "text/latex": [
       "\\textbf{pdf:} 2"
      ],
      "text/html": [
       "<strong>pdf:</strong> 2"
      ]
     },
     "metadata": {}
    },
    {
     "output_type": "display_data",
     "data": {
      "text/plain": [
       "pdf \n",
       "  2 "
      ],
      "text/markdown": [
       "**pdf:** 2"
      ],
      "text/latex": [
       "\\textbf{pdf:} 2"
      ],
      "text/html": [
       "<strong>pdf:</strong> 2"
      ]
     },
     "metadata": {}
    },
    {
     "output_type": "display_data",
     "data": {
      "text/plain": [
       "pdf \n",
       "  2 "
      ],
      "text/markdown": [
       "**pdf:** 2"
      ],
      "text/latex": [
       "\\textbf{pdf:} 2"
      ],
      "text/html": [
       "<strong>pdf:</strong> 2"
      ]
     },
     "metadata": {}
    }
   ],
   "metadata": {}
  },
  {
   "cell_type": "code",
   "execution_count": 6,
   "source": [
    "# Figure 5\n",
    "\n",
    "setwd('/Users/ibishara/Desktop/FELINE_C1/')\n",
    "\n",
    "# packages\n",
    "library(data.table)\n",
    "library(tidyverse)\n",
    "library(qs)\n",
    "\n",
    "# data\n",
    "meta_sub_LQ <- fread('metadata_subsample_LQ_no_id.txt', sep='\\t', data.table=F) # low quality subsample metadata\n",
    "meta_sub_HQ <- fread('metadata_subsample_HQ_no_id.txt', sep='\\t', data.table=F) # high quality subsample metadata\n",
    "\n",
    "meta_sub <- bind_rows(meta_sub_HQ, meta_sub_LQ) # combine HQ & LQ metadata\n",
    "\n",
    "\n",
    "## indexing \n",
    "# Lineage\n",
    "epi.ind <- which(meta_sub$Lineage == \"Epithelial_cells\")\n",
    "mes.ind <- which(meta_sub$Lineage == \"Stromal_cells\")\n",
    "hem.ind <- which(meta_sub$Lineage == \"Immune_cells\")\n",
    "\n",
    "# LQ cell type labels\n",
    "tcell.ind.LQ <- which( meta_sub$hpca == \"T_cells\" )\n",
    "bcell.ind.LQ <- which( meta_sub$hpca == \"B_cell\" )\n",
    "macro.ind.LQ <- which( meta_sub$hpca == \"Macrophage\" | meta_sub$hpca == \"Monocyte\")\n",
    "fibro.ind.LQ <- which( meta_sub$hpca == \"Fibroblasts\")\n",
    "\n",
    "# LQ cell type labels\n",
    "tcell.ind.HQ <- which( meta_sub$Celltype == \"T cells\" )\n",
    "bcell.ind.HQ <- which( meta_sub$Celltype == \"B cells\" )\n",
    "macro.ind.HQ <- which( meta_sub$Celltype == \"Macrophages\")\n",
    "fibro.ind.HQ <- which( meta_sub$Celltype == \"Fibroblasts\")\n",
    "\n",
    "# combined cell type labels\n",
    "tcell.ind <- c(tcell.ind.LQ, tcell.ind.HQ)\n",
    "bcell.ind <- c(bcell.ind.LQ, bcell.ind.HQ)\n",
    "macro.ind <- c(macro.ind.LQ, macro.ind.HQ)\n",
    "fibro.ind <- c(fibro.ind.LQ, fibro.ind.HQ)\n",
    "\n",
    "\n",
    "## setting cut-offs\n",
    "## JF's cut-off for FELINE_C1: > 2000 UMI. 500 - 7000 genes \n",
    "nCount_RNA_cutoff <- 1500\n",
    "new.nCount_RNA_cutoff <- 450\n",
    "\n",
    "pre.retained.all <- length(which(meta_sub$nCount_RNA > nCount_RNA_cutoff))\n",
    "post.retained.all <- length(which(meta_sub$nCount_RNA < nCount_RNA_cutoff & meta_sub$nCount_RNA > new.nCount_RNA_cutoff))\n",
    "\n",
    "pre.retained.epi <- length(which(meta_sub$nCount_RNA[epi.ind] > nCount_RNA_cutoff))\n",
    "post.retained.epi <- length(which(meta_sub$nCount_RNA[epi.ind] < nCount_RNA_cutoff & meta_sub$nCount_RNA[epi.ind] > new.nCount_RNA_cutoff))\n",
    "\n",
    "pre.retained.mes <- length(which(meta_sub$nCount_RNA[mes.ind] > nCount_RNA_cutoff))\n",
    "post.retained.mes <- length(which(meta_sub$nCount_RNA[mes.ind] < nCount_RNA_cutoff & meta_sub$nCount_RNA[mes.ind] > new.nCount_RNA_cutoff))\n",
    "\n",
    "pre.retained.hem <- length(which(meta_sub$nCount_RNA[hem.ind] > nCount_RNA_cutoff))\n",
    "post.retained.hem <- length(which(meta_sub$nCount_RNA[hem.ind] < nCount_RNA_cutoff & meta_sub$nCount_RNA[hem.ind] > new.nCount_RNA_cutoff))\n",
    "\n",
    "\n",
    "pre.retained.fibro <- length(which(meta_sub$nCount_RNA[fibro.ind] > nCount_RNA_cutoff))\n",
    "post.retained.fibro <- length(which(meta_sub$nCount_RNA[fibro.ind] < nCount_RNA_cutoff & meta_sub$nCount_RNA[fibro.ind] > new.nCount_RNA_cutoff))\n",
    "\n",
    "pre.retained.bcell <- length(which(meta_sub$nCount_RNA[bcell.ind] > nCount_RNA_cutoff))\n",
    "post.retained.bcell <- length(which(meta_sub$nCount_RNA[bcell.ind] < nCount_RNA_cutoff & meta_sub$nCount_RNA[bcell.ind] > new.nCount_RNA_cutoff))\n",
    "\n",
    "pre.retained.tcell <- length(which(meta_sub$nCount_RNA[tcell.ind] > nCount_RNA_cutoff))\n",
    "post.retained.tcell <- length(which(meta_sub$nCount_RNA[tcell.ind] < nCount_RNA_cutoff & meta_sub$nCount_RNA[tcell.ind] > new.nCount_RNA_cutoff))\n",
    "\n",
    "pre.retained.macro <- length(which(meta_sub$nCount_RNA[macro.ind] > nCount_RNA_cutoff))\n",
    "post.retained.macro <- length(which(meta_sub$nCount_RNA[macro.ind] < nCount_RNA_cutoff & meta_sub$nCount_RNA[macro.ind] > new.nCount_RNA_cutoff))\n",
    "\n"
   ],
   "outputs": [],
   "metadata": {}
  },
  {
   "cell_type": "code",
   "execution_count": 7,
   "source": [
    "\n",
    "options(repr.plot.width=14, repr.plot.height=6)\n",
    "\n",
    "title.size <- 1.4\n",
    "lab.size <- 1.0\n",
    "sub.size <- 1.4\n",
    "\n",
    "\n",
    "## Plot number of reads and genes by lineage\n",
    "pdf('Figures/Fig.5a.pdf', width = 14, height = 6)\n",
    "par(mfrow=c(2,4), mar=c(6,5,5,1))\n",
    "\n",
    "plot(main = \"All cells: total reads (log10)\", density(log10(meta_sub$nCount_RNA)), , cex.main = title.size, cex.lab = lab.size, cex.sub= sub.size); abline(v=log10(nCount_RNA_cutoff), lty=2, col=\"darkred\"); abline(v=log10(new.nCount_RNA_cutoff), lty=2, col=\"#51a706\")\n",
    "mtext(line= -17.2, adj=0.5, cex=1, paste('Percent cells gained:', round(100*post.retained.all/pre.retained.all),'%', '( n =', post.retained.all, ')' ))  # subtitle\n",
    "\n",
    "plot(main = \"Epithelial cells: total reads (log10)\", density(log10(meta_sub$nCount_RNA[epi.ind])), cex.main = title.size, cex.lab = lab.size, cex.sub= sub.size); abline(v=log10(nCount_RNA_cutoff), lty=2, col=\"darkred\"); abline(v=log10(new.nCount_RNA_cutoff), lty=2, col=\"#51a706\")\n",
    "mtext(line= -17.2, adj=0.5, cex=1, paste('Percent cells gained:', round(100*post.retained.epi/pre.retained.epi),'%', '( n =', post.retained.epi, ')' ))  # subtitle\n",
    "\n",
    "plot(main = \"Stromal_cells: total reads (log10)\", density(log10(meta_sub$nCount_RNA[mes.ind])), cex.main = title.size, cex.lab = lab.size, cex.sub= sub.size); abline(v=log10(nCount_RNA_cutoff), lty=2, col=\"darkred\"); abline(v=log10(new.nCount_RNA_cutoff), lty=2, col=\"#51a706\")\n",
    "mtext(line= -17.2, adj=0.5, cex=1, paste('Percent cells gained:', round(100*post.retained.mes/pre.retained.mes),'%', '( n =', post.retained.mes, ')' ))  # subtitle\n",
    "\n",
    "plot(main = \"Immune_cells: total reads (log10)\", density(log10(meta_sub$nCount_RNA[hem.ind])), cex.main = title.size, cex.lab = lab.size, cex.sub= sub.size); abline(v=log10(nCount_RNA_cutoff), lty=2, col=\"darkred\"); abline(v=log10(new.nCount_RNA_cutoff), lty=2, col=\"#51a706\")\n",
    "mtext(line= -17.2, adj=0.5, cex=1, paste('Percent cells gained:', round(100*post.retained.hem/pre.retained.hem),'%', '( n =', post.retained.hem, ')' ))  # subtitle\n",
    "\n",
    "plot(main = \"Fibroblasts: total reads (log10)\", density(log10(meta_sub$nCount_RNA[fibro.ind])), cex.main = title.size, cex.lab = lab.size, cex.sub= sub.size); abline(v=log10(nCount_RNA_cutoff), lty=2, col=\"darkred\"); abline(v=log10(new.nCount_RNA_cutoff), lty=2, col=\"#51a706\")\n",
    "mtext(line=  -17.2, adj=0.5, cex=1, paste('Percent cells gained:', round(100*post.retained.fibro/pre.retained.fibro),'%', '( n =', post.retained.fibro, ')' ))  # subtitle\n",
    "\n",
    "plot(main = \"B.cells: total reads (log10)\", density(log10(meta_sub$nCount_RNA[bcell.ind])), cex.main = title.size, cex.lab = lab.size, cex.sub= sub.size); abline(v=log10(nCount_RNA_cutoff), lty=2, col=\"darkred\"); abline(v=log10(new.nCount_RNA_cutoff), lty=2, col=\"#51a706\")\n",
    "mtext(line=  -17.2, adj=0.5, cex=1, paste('Percent cells gained:', round(100*post.retained.bcell/pre.retained.bcell),'%', '( n =', post.retained.bcell, ')' ))  # subtitle\n",
    "\n",
    "plot(main = \"T.cells: total reads (log10)\", density(log10(meta_sub$nCount_RNA[tcell.ind])), cex.main = title.size, cex.lab = lab.size, cex.sub= sub.size); abline(v=log10(nCount_RNA_cutoff), lty=2, col=\"darkred\"); abline(v=log10(new.nCount_RNA_cutoff), lty=2, col=\"#51a706\")\n",
    "mtext(line=  -17.2, adj=0.5, cex=1, paste('Percent cells gained:', round(100*post.retained.tcell/pre.retained.tcell),'%', '( n =', post.retained.tcell, ')' ))  # subtitle\n",
    "\n",
    "plot(main = \"Macrophages: total reads (log10)\", density(log10(meta_sub$nCount_RNA[macro.ind])), cex.main = title.size, cex.lab = lab.size, cex.sub= sub.size); abline(v=log10(nCount_RNA_cutoff), lty=2, col=\"darkred\"); abline(v=log10(new.nCount_RNA_cutoff), lty=2, col=\"#51a706\")\n",
    "mtext(line= -17.2, adj=0.5, cex=1, paste('Percent cells gained:', round(100*post.retained.macro/pre.retained.macro),'%', '( n =', post.retained.macro, ')' ))  # subtitle\n",
    "\n",
    "dev.off()\n",
    "\n",
    "\n"
   ],
   "outputs": [
    {
     "output_type": "display_data",
     "data": {
      "text/plain": [
       "pdf \n",
       "  2 "
      ],
      "text/markdown": [
       "**pdf:** 2"
      ],
      "text/latex": [
       "\\textbf{pdf:} 2"
      ],
      "text/html": [
       "<strong>pdf:</strong> 2"
      ]
     },
     "metadata": {}
    }
   ],
   "metadata": {}
  },
  {
   "cell_type": "code",
   "execution_count": 12,
   "source": [
    "# Figure 4\n",
    "\n",
    "library(qs)\n",
    "library(Seurat)\n",
    "library(singleCellNet)\n",
    "\n",
    "setwd('/Users/ibishara/Desktop/FELINE_C1/')\n",
    "\n",
    "seu_HQ <- qread(file = \"seu_HQ_no_id.qs\")\n",
    "seu_HQ <- subset(x = seu_HQ, subset = Celltype != \"Normal epithelial cells\")   ## Removes normal epithelial cells. Genes unique to normal epi cells are removed from analysis downstream\n",
    "seu_HQ <- subset(seu_HQ, subset = nCount_RNA < 15000 ) \n",
    "##\n",
    "\n",
    "\n",
    "red.reads <- function(x, y){\n",
    "    x <- round(x * rpois(n=length(x), lambda=y/sum(x)))\n",
    "    return(x)\n",
    "    }\n",
    "\n",
    "meta <- seu_HQ@meta.data\n",
    "seu.HQ.counts <- GetAssayData(seu_HQ, assay = \"RNA\")\n",
    "\n",
    "\n",
    "umap_transformed <- function(class, i){\n",
    "\n",
    "    # Split 50 / 50 \n",
    "    ncells <- 3000\n",
    "    stList = splitCommon(sampTab = meta, ncells = ncells, dLevel = class)\n",
    "    stSub = stList[[1]]\n",
    "    stTrain = stSub[sample(nrow(stSub), round(nrow(stSub)/2)), ]\n",
    "    stTest = stSub[! rownames(stSub) %in% rownames(stTrain) ,]\n",
    "    counts = seu.HQ.counts[ , rownames(stTest)]\n",
    "\n",
    "    transformed <- apply(X = counts, MARGIN = 2, FUN = red.reads, y = i) # run 2nd function to reduce the number of count per cell above threshold. iterates over columns (cells)\n",
    "    meta_transformed <- meta[colnames(transformed), ]\n",
    "    seu_HQ_transformed <- CreateSeuratObject(counts= transformed, min.features= 0, min.cells = 0, names.delim= \"_\", meta.data= meta_transformed) \n",
    "\n",
    "    ## Normalize and scale \n",
    "\n",
    "    seu_HQ_transformed <- NormalizeData(seu_HQ_transformed, verbose = FALSE)\n",
    "    seu_HQ_transformed <- FindVariableFeatures(seu_HQ_transformed, verbose = FALSE)\n",
    "    genes <- rownames(seu_HQ_transformed)\n",
    "    seu_HQ_transformed <- ScaleData(seu_HQ_transformed, features = genes, verbose = FALSE)\n",
    "    seu_HQ_transformed <- RunPCA(seu_HQ_transformed, features = VariableFeatures(object = seu_HQ_transformed), verbose = FALSE)\n",
    "    ElbowPlot(seu_HQ_transformed, ndims = 50)\n",
    "\n",
    "    ## Cell clustering\n",
    "    seu_HQ_transformed <- FindNeighbors(seu_HQ_transformed, dims = 1:10, verbose = FALSE) \n",
    "    seu_HQ_transformed <- FindClusters(seu_HQ_transformed, resolution = 0.1, verbose = FALSE)\n",
    "\n",
    "    ## UMAP\n",
    "    seu_HQ_transformed <- RunUMAP(seu_HQ_transformed, dims = 1:10, verbose = FALSE)\n",
    "    DimPlot(seu_HQ_transformed, reduction = \"umap\", group.by = class) + ggtitle(i)\n",
    "}\n",
    "\n"
   ],
   "outputs": [],
   "metadata": {}
  },
  {
   "cell_type": "code",
   "execution_count": 18,
   "source": [
    "library(parallel)\n",
    "library(patchwork)\n",
    "\n",
    "numCores <- detectCores()\n",
    "\n",
    "celltype <- mclapply(c(450, 350, 250, 150),\n",
    "             FUN=function(i) umap_transformed('Celltype', i) + ggtitle(i),\n",
    "             mc.cores = numCores)\n",
    "\n",
    "lineage <- mclapply(c(450, 350, 250, 150),\n",
    "             FUN=function(i) umap_transformed('Lineage', i) + ggtitle(i),\n",
    "             mc.cores = numCores)\n",
    "\n"
   ],
   "outputs": [],
   "metadata": {}
  },
  {
   "cell_type": "code",
   "execution_count": 19,
   "source": [
    "combined.lineage <- lineage[[1]]+ lineage[[2]] + lineage[[3]] + lineage[[4]] & theme(legend.position = \"right\") \n",
    "combined.celltype <- celltype[[1]]+ celltype[[2]] + celltype[[3]] + celltype[[4]] & theme(legend.position = \"right\") \n",
    "\n",
    "pdf('Figures/Fig.4a.pdf', width = 14, height = 4)\n",
    "    combined.lineage + plot_layout(guides = \"collect\", ncol =4)\n",
    "dev.off()\n",
    "\n",
    "pdf('Figures/Fig.4b.pdf', width = 14, height = 4)\n",
    "    combined.celltype + plot_layout(guides = \"collect\", ncol =4)\n",
    "dev.off()\n",
    "\n"
   ],
   "outputs": [
    {
     "output_type": "display_data",
     "data": {
      "text/plain": [
       "pdf \n",
       "  2 "
      ],
      "text/markdown": [
       "**pdf:** 2"
      ],
      "text/latex": [
       "\\textbf{pdf:} 2"
      ],
      "text/html": [
       "<strong>pdf:</strong> 2"
      ]
     },
     "metadata": {}
    },
    {
     "output_type": "display_data",
     "data": {
      "text/plain": [
       "pdf \n",
       "  2 "
      ],
      "text/markdown": [
       "**pdf:** 2"
      ],
      "text/latex": [
       "\\textbf{pdf:} 2"
      ],
      "text/html": [
       "<strong>pdf:</strong> 2"
      ]
     },
     "metadata": {}
    }
   ],
   "metadata": {}
  },
  {
   "cell_type": "code",
   "execution_count": 11,
   "source": [
    "# Figure 3 supplement \n",
    "\n",
    "library(qs)\n",
    "library(Seurat)\n",
    "\n",
    "## Generate UMAP for untransformed HQ\n",
    "seu_HQ <- qread(file = \"seu_HQ_no_id.qs\")\n",
    "seu_HQ <- subset(x = seu_HQ, subset = Celltype != \"Normal epithelial cells\")   ## Removes normal epithelial cells. Genes unique to normal epi cells are removed from analysis downstream\n",
    "seu_HQ <- subset(seu_HQ, subset = nCount_RNA < 15000 ) \n",
    "\n",
    "## Normalize and scale \n",
    "seu_HQ <- NormalizeData(seu_HQ, verbose = FALSE)\n",
    "genes <- rownames(seu_HQ)\n",
    "seu_HQ <- ScaleData(seu_HQ, features = genes, verbose = FALSE)\n",
    "seu_HQ <- RunPCA(seu_HQ, features = genes, verbose = FALSE)\n",
    "# ElbowPlot(seu_HQ, ndims = 50)\n",
    "\n",
    "## Cell clustering\n",
    "seu_HQ <- FindNeighbors(seu_HQ, dims = 1:20, verbose = FALSE) \n",
    "seu_HQ <- FindClusters(seu_HQ, resolution = 0.1, verbose = FALSE)\n",
    "\n",
    "## UMAP\n",
    "seu_HQ <- RunUMAP(seu_HQ, dims = 1:20, verbose = FALSE)\n",
    "\n",
    "pdf('Figures/Supp.3a.pdf', width = 6, height = 4)\n",
    "    DimPlot(seu_HQ, reduction = \"umap\", group.by = 'Celltype') \n",
    "dev.off()\n",
    "\n",
    "pdf('Figures/Supp.3b.pdf', width = 6, height = 4)\n",
    "    DimPlot(seu_HQ, reduction = \"umap\", group.by = 'Lineage') \n",
    "dev.off()\n",
    "\n",
    "options(repr.plot.width=4, repr.plot.height=6)\n",
    "\n",
    "\n"
   ],
   "outputs": [
    {
     "output_type": "display_data",
     "data": {
      "text/plain": [
       "pdf \n",
       "  2 "
      ],
      "text/markdown": [
       "**pdf:** 2"
      ],
      "text/latex": [
       "\\textbf{pdf:} 2"
      ],
      "text/html": [
       "<strong>pdf:</strong> 2"
      ]
     },
     "metadata": {}
    },
    {
     "output_type": "display_data",
     "data": {
      "text/plain": [
       "pdf \n",
       "  2 "
      ],
      "text/markdown": [
       "**pdf:** 2"
      ],
      "text/latex": [
       "\\textbf{pdf:} 2"
      ],
      "text/html": [
       "<strong>pdf:</strong> 2"
      ]
     },
     "metadata": {}
    },
    {
     "output_type": "display_data",
     "data": {
      "text/plain": [
       "plot without title"
      ],
      "image/png": "[encoded data removed]"
     },
     "metadata": {
      "image/png": {
       "width": 840,
       "height": 360
      }
     }
    }
   ],
   "metadata": {}
  }
 ],
 "metadata": {
  "orig_nbformat": 4,
  "language_info": {
   "name": "R",
   "codemirror_mode": "r",
   "pygments_lexer": "r",
   "mimetype": "text/x-r-source",
   "file_extension": ".r",
   "version": "4.1.1"
  },
  "kernelspec": {
   "name": "analysis",
   "display_name": "R analysis",
   "language": "R"
  },
  "interpreter": {
   "hash": "73599773f4e325ae8e02971cae44a50349d00cbeaed1006b45f54a24b2a1ed49"
  }
 },
 "nbformat": 4,
 "nbformat_minor": 2
}